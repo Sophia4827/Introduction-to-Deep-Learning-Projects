{
  "nbformat": 4,
  "nbformat_minor": 0,
  "metadata": {
    "colab": {
      "provenance": [],
      "gpuType": "T4"
    },
    "kernelspec": {
      "name": "python3",
      "display_name": "Python 3"
    },
    "language_info": {
      "name": "python"
    },
    "accelerator": "GPU"
  },
  "cells": [
    {
      "cell_type": "markdown",
      "source": [
        "# Homework: Collaborative Filtering\n",
        "\n",
        "This notebook is a graded homework that you will turn in. You must complete Problem 1+2 and then *either* Problem 3 *or* Problem 4. If you submit a notebook with both Problem 3 and 4 completed, I will just grade Problem 3.\n",
        "\n",
        "You may:\n",
        "\n",
        "* Ask questions of and work with other students in this course. You must each write up your own solutions.\n",
        "* *Special exception: for Problems 1+2, you may work with other students and copy each others' code.* Those problems are copied verbatim from the in-class exercises.\n",
        "* Ask questions of the instructor. Your instructor is generous with hints and guidance.\n",
        "* Use the [Python Documentation](https://docs.python.org/3.11/), especially the [tutorial section](https://docs.python.org/3/tutorial/index.html).\n",
        "* Use the PyTorch and fast.ai documentation, as well as any other relevant documentation.\n",
        "* Use the [W3Schools](https://www.w3schools.com/python/) and [Python For Everbody](https://www.py4e.com/) tutorials/reference guides.\n",
        "\n",
        "You *may not*:\n",
        "* Discuss this with any other students, faculty, your friends, your family, &c. before it is submitted.\n",
        "* Use Stack Overflow, Google, ChatGPT or other unspecified resources.\n"
      ],
      "metadata": {
        "id": "tyNJ0sB9eYaz"
      }
    },
    {
      "cell_type": "markdown",
      "source": [
        "## Problems in this Notebook\n",
        "\n",
        "1. Collaborative Filtering: New Dataset\n",
        "2. Nearest Neighbor Distance\n",
        "3. Improve the Model\n",
        "4. PCA and UMAP Embeddings"
      ],
      "metadata": {
        "id": "znnt8AR4uOwx"
      }
    },
    {
      "cell_type": "code",
      "execution_count": 1,
      "metadata": {
        "id": "sT_QRqumeWgm"
      },
      "outputs": [],
      "source": [
        "# Load some libraries my dudes\n",
        "from fastai.collab import *\n",
        "from fastai.tabular.all import *"
      ]
    },
    {
      "cell_type": "markdown",
      "source": [
        "# 1. Another Dataset\n",
        "\n",
        "Using a new dataset, fit the best recommender system you can, using the techniques from class. Here are some recommendations (haha) for datasets hosted on kaggle and around the web. Pick one you feel you know enough about, to make the rest of the problems more tractable.\n",
        "\n",
        "* [Goodreads book ratings](https://www.kaggle.com/datasets/zygmunt/goodbooks-10k)\n",
        "* [Anime ratings from MyAnimeList](https://www.kaggle.com/datasets/hernan4444/anime-recommendation-database-2020)\n",
        "* [Board game recommendations from BoardGameGeek](https://www.kaggle.com/datasets/nfedorov/top-2000-board-games-ratings)\n",
        "* [Steam video game interaction](https://www.kaggle.com/datasets/tamber/steam-video-games)\n",
        "* [Amazon Music Reviews](https://cseweb.ucsd.edu/~jmcauley/datasets/amazon/links.html)"
      ],
      "metadata": {
        "id": "M_lnIg8zgcsW"
      }
    },
    {
      "cell_type": "markdown",
      "source": [
        "Hints to get things running more smoothly:\n",
        "1. [Rename your columns](https://pandas.pydata.org/docs/reference/api/pandas.DataFrame.rename.html) to be `\"user\"`, `\"title\"`, and `\"rating\"`. Also, when you create a learner with `collab_learner()`, make sure to set `use_nn=False`. The code for Problem 2 assumes those, and you'll have to either rename your columns here or edit the code below.\n",
        "1. Enable GPU on your notebook! Some recent update to PyTorch causes a bunch of warnings to pop up.\n",
        "2. Scale up your batch size as large as you can and still fit into GPU RAM.\n",
        "3. Scale down your dataset if necessary, using the [sample method](https://pandas.pydata.org/docs/reference/api/pandas.DataFrame.sample.html)\n",
        "3. Make sure your epochs run relatively quickly! We don't have all day, people.\n",
        "\n",
        "Load in your data and fit a model. You should be able to get better than about 15% accuracy (rmse of $\\lesssim 0.8$ if ratings are out of 5, or $\\lesssim 1.5$ if out of 10)."
      ],
      "metadata": {
        "id": "YVNRInmlA6Ly"
      }
    },
    {
      "cell_type": "code",
      "source": [
        "%env KAGGLE_USERNAME=sophia4827\n",
        "%env KAGGLE_KEY=ac334c3351a2af38b3f6b0ce9d9922a6\n",
        "\n",
        "!kaggle datasets download -d zygmunt/goodbooks-10k\n",
        "!unzip goodbooks-10k"
      ],
      "metadata": {
        "id": "fvU85ppVhBhW",
        "colab": {
          "base_uri": "https://localhost:8080/"
        },
        "outputId": "67d9c863-c075-4728-ffc0-b458fe8de14b"
      },
      "execution_count": 2,
      "outputs": [
        {
          "output_type": "stream",
          "name": "stdout",
          "text": [
            "env: KAGGLE_USERNAME=sophia4827\n",
            "env: KAGGLE_KEY=ac334c3351a2af38b3f6b0ce9d9922a6\n",
            "Dataset URL: https://www.kaggle.com/datasets/zygmunt/goodbooks-10k\n",
            "License(s): CC-BY-SA-4.0\n",
            "Downloading goodbooks-10k.zip to /content\n",
            " 86% 10.0M/11.6M [00:01<00:00, 11.4MB/s]\n",
            "100% 11.6M/11.6M [00:01<00:00, 7.21MB/s]\n",
            "Archive:  goodbooks-10k.zip\n",
            "  inflating: book_tags.csv           \n",
            "  inflating: books.csv               \n",
            "  inflating: ratings.csv             \n",
            "  inflating: sample_book.xml         \n",
            "  inflating: tags.csv                \n",
            "  inflating: to_read.csv             \n"
          ]
        }
      ]
    },
    {
      "cell_type": "code",
      "source": [
        "import pandas as pd"
      ],
      "metadata": {
        "id": "Y21sBp-Ghdax"
      },
      "execution_count": 4,
      "outputs": []
    },
    {
      "cell_type": "code",
      "source": [
        "ratings = pd.read_csv(\"ratings.csv\")\n",
        "books = pd.read_csv(\"books.csv\")\n",
        "\n",
        "books = books[[\"id\", \"original_title\"]]"
      ],
      "metadata": {
        "id": "7FZEAfQehfGD"
      },
      "execution_count": 5,
      "outputs": []
    },
    {
      "cell_type": "code",
      "source": [
        "ratings.rename(columns = {'book_id':'user'}, inplace = True)"
      ],
      "metadata": {
        "id": "8JkPfyKVhhE5"
      },
      "execution_count": 6,
      "outputs": []
    },
    {
      "cell_type": "code",
      "source": [
        "books.rename(columns = {'id':'user'}, inplace = True)"
      ],
      "metadata": {
        "id": "XKAKE1Dw0qwZ"
      },
      "execution_count": 7,
      "outputs": []
    },
    {
      "cell_type": "code",
      "source": [
        "books.rename(columns = {'original_title':'title'}, inplace = True)"
      ],
      "metadata": {
        "id": "B1VP0TOO16ii"
      },
      "execution_count": 8,
      "outputs": []
    },
    {
      "cell_type": "code",
      "source": [
        "ratings = pd.merge(ratings, books, on=\"user\")\n",
        "ratings"
      ],
      "metadata": {
        "colab": {
          "base_uri": "https://localhost:8080/",
          "height": 424
        },
        "id": "keTTEyfdhiTR",
        "outputId": "c2ea33b0-066c-40f3-a0d1-8cf8d777044e"
      },
      "execution_count": 9,
      "outputs": [
        {
          "output_type": "execute_result",
          "data": {
            "text/plain": [
              "         user  user_id  rating                title\n",
              "0           1      314       5     The Hunger Games\n",
              "1           1      439       3     The Hunger Games\n",
              "2           1      588       5     The Hunger Games\n",
              "3           1     1169       4     The Hunger Games\n",
              "4           1     1185       4     The Hunger Games\n",
              "...       ...      ...     ...                  ...\n",
              "981751  10000    48386       5  The First World War\n",
              "981752  10000    49007       4  The First World War\n",
              "981753  10000    49383       5  The First World War\n",
              "981754  10000    50124       5  The First World War\n",
              "981755  10000    51328       1  The First World War\n",
              "\n",
              "[981756 rows x 4 columns]"
            ],
            "text/html": [
              "\n",
              "  <div id=\"df-f363fdbf-b7bf-4502-b015-5c6332dc5b8a\" class=\"colab-df-container\">\n",
              "    <div>\n",
              "<style scoped>\n",
              "    .dataframe tbody tr th:only-of-type {\n",
              "        vertical-align: middle;\n",
              "    }\n",
              "\n",
              "    .dataframe tbody tr th {\n",
              "        vertical-align: top;\n",
              "    }\n",
              "\n",
              "    .dataframe thead th {\n",
              "        text-align: right;\n",
              "    }\n",
              "</style>\n",
              "<table border=\"1\" class=\"dataframe\">\n",
              "  <thead>\n",
              "    <tr style=\"text-align: right;\">\n",
              "      <th></th>\n",
              "      <th>user</th>\n",
              "      <th>user_id</th>\n",
              "      <th>rating</th>\n",
              "      <th>title</th>\n",
              "    </tr>\n",
              "  </thead>\n",
              "  <tbody>\n",
              "    <tr>\n",
              "      <th>0</th>\n",
              "      <td>1</td>\n",
              "      <td>314</td>\n",
              "      <td>5</td>\n",
              "      <td>The Hunger Games</td>\n",
              "    </tr>\n",
              "    <tr>\n",
              "      <th>1</th>\n",
              "      <td>1</td>\n",
              "      <td>439</td>\n",
              "      <td>3</td>\n",
              "      <td>The Hunger Games</td>\n",
              "    </tr>\n",
              "    <tr>\n",
              "      <th>2</th>\n",
              "      <td>1</td>\n",
              "      <td>588</td>\n",
              "      <td>5</td>\n",
              "      <td>The Hunger Games</td>\n",
              "    </tr>\n",
              "    <tr>\n",
              "      <th>3</th>\n",
              "      <td>1</td>\n",
              "      <td>1169</td>\n",
              "      <td>4</td>\n",
              "      <td>The Hunger Games</td>\n",
              "    </tr>\n",
              "    <tr>\n",
              "      <th>4</th>\n",
              "      <td>1</td>\n",
              "      <td>1185</td>\n",
              "      <td>4</td>\n",
              "      <td>The Hunger Games</td>\n",
              "    </tr>\n",
              "    <tr>\n",
              "      <th>...</th>\n",
              "      <td>...</td>\n",
              "      <td>...</td>\n",
              "      <td>...</td>\n",
              "      <td>...</td>\n",
              "    </tr>\n",
              "    <tr>\n",
              "      <th>981751</th>\n",
              "      <td>10000</td>\n",
              "      <td>48386</td>\n",
              "      <td>5</td>\n",
              "      <td>The First World War</td>\n",
              "    </tr>\n",
              "    <tr>\n",
              "      <th>981752</th>\n",
              "      <td>10000</td>\n",
              "      <td>49007</td>\n",
              "      <td>4</td>\n",
              "      <td>The First World War</td>\n",
              "    </tr>\n",
              "    <tr>\n",
              "      <th>981753</th>\n",
              "      <td>10000</td>\n",
              "      <td>49383</td>\n",
              "      <td>5</td>\n",
              "      <td>The First World War</td>\n",
              "    </tr>\n",
              "    <tr>\n",
              "      <th>981754</th>\n",
              "      <td>10000</td>\n",
              "      <td>50124</td>\n",
              "      <td>5</td>\n",
              "      <td>The First World War</td>\n",
              "    </tr>\n",
              "    <tr>\n",
              "      <th>981755</th>\n",
              "      <td>10000</td>\n",
              "      <td>51328</td>\n",
              "      <td>1</td>\n",
              "      <td>The First World War</td>\n",
              "    </tr>\n",
              "  </tbody>\n",
              "</table>\n",
              "<p>981756 rows × 4 columns</p>\n",
              "</div>\n",
              "    <div class=\"colab-df-buttons\">\n",
              "\n",
              "  <div class=\"colab-df-container\">\n",
              "    <button class=\"colab-df-convert\" onclick=\"convertToInteractive('df-f363fdbf-b7bf-4502-b015-5c6332dc5b8a')\"\n",
              "            title=\"Convert this dataframe to an interactive table.\"\n",
              "            style=\"display:none;\">\n",
              "\n",
              "  <svg xmlns=\"http://www.w3.org/2000/svg\" height=\"24px\" viewBox=\"0 -960 960 960\">\n",
              "    <path d=\"M120-120v-720h720v720H120Zm60-500h600v-160H180v160Zm220 220h160v-160H400v160Zm0 220h160v-160H400v160ZM180-400h160v-160H180v160Zm440 0h160v-160H620v160ZM180-180h160v-160H180v160Zm440 0h160v-160H620v160Z\"/>\n",
              "  </svg>\n",
              "    </button>\n",
              "\n",
              "  <style>\n",
              "    .colab-df-container {\n",
              "      display:flex;\n",
              "      gap: 12px;\n",
              "    }\n",
              "\n",
              "    .colab-df-convert {\n",
              "      background-color: #E8F0FE;\n",
              "      border: none;\n",
              "      border-radius: 50%;\n",
              "      cursor: pointer;\n",
              "      display: none;\n",
              "      fill: #1967D2;\n",
              "      height: 32px;\n",
              "      padding: 0 0 0 0;\n",
              "      width: 32px;\n",
              "    }\n",
              "\n",
              "    .colab-df-convert:hover {\n",
              "      background-color: #E2EBFA;\n",
              "      box-shadow: 0px 1px 2px rgba(60, 64, 67, 0.3), 0px 1px 3px 1px rgba(60, 64, 67, 0.15);\n",
              "      fill: #174EA6;\n",
              "    }\n",
              "\n",
              "    .colab-df-buttons div {\n",
              "      margin-bottom: 4px;\n",
              "    }\n",
              "\n",
              "    [theme=dark] .colab-df-convert {\n",
              "      background-color: #3B4455;\n",
              "      fill: #D2E3FC;\n",
              "    }\n",
              "\n",
              "    [theme=dark] .colab-df-convert:hover {\n",
              "      background-color: #434B5C;\n",
              "      box-shadow: 0px 1px 3px 1px rgba(0, 0, 0, 0.15);\n",
              "      filter: drop-shadow(0px 1px 2px rgba(0, 0, 0, 0.3));\n",
              "      fill: #FFFFFF;\n",
              "    }\n",
              "  </style>\n",
              "\n",
              "    <script>\n",
              "      const buttonEl =\n",
              "        document.querySelector('#df-f363fdbf-b7bf-4502-b015-5c6332dc5b8a button.colab-df-convert');\n",
              "      buttonEl.style.display =\n",
              "        google.colab.kernel.accessAllowed ? 'block' : 'none';\n",
              "\n",
              "      async function convertToInteractive(key) {\n",
              "        const element = document.querySelector('#df-f363fdbf-b7bf-4502-b015-5c6332dc5b8a');\n",
              "        const dataTable =\n",
              "          await google.colab.kernel.invokeFunction('convertToInteractive',\n",
              "                                                    [key], {});\n",
              "        if (!dataTable) return;\n",
              "\n",
              "        const docLinkHtml = 'Like what you see? Visit the ' +\n",
              "          '<a target=\"_blank\" href=https://colab.research.google.com/notebooks/data_table.ipynb>data table notebook</a>'\n",
              "          + ' to learn more about interactive tables.';\n",
              "        element.innerHTML = '';\n",
              "        dataTable['output_type'] = 'display_data';\n",
              "        await google.colab.output.renderOutput(dataTable, element);\n",
              "        const docLink = document.createElement('div');\n",
              "        docLink.innerHTML = docLinkHtml;\n",
              "        element.appendChild(docLink);\n",
              "      }\n",
              "    </script>\n",
              "  </div>\n",
              "\n",
              "\n",
              "<div id=\"df-436ee9e2-9475-4557-ad04-a6e07d638f8c\">\n",
              "  <button class=\"colab-df-quickchart\" onclick=\"quickchart('df-436ee9e2-9475-4557-ad04-a6e07d638f8c')\"\n",
              "            title=\"Suggest charts\"\n",
              "            style=\"display:none;\">\n",
              "\n",
              "<svg xmlns=\"http://www.w3.org/2000/svg\" height=\"24px\"viewBox=\"0 0 24 24\"\n",
              "     width=\"24px\">\n",
              "    <g>\n",
              "        <path d=\"M19 3H5c-1.1 0-2 .9-2 2v14c0 1.1.9 2 2 2h14c1.1 0 2-.9 2-2V5c0-1.1-.9-2-2-2zM9 17H7v-7h2v7zm4 0h-2V7h2v10zm4 0h-2v-4h2v4z\"/>\n",
              "    </g>\n",
              "</svg>\n",
              "  </button>\n",
              "\n",
              "<style>\n",
              "  .colab-df-quickchart {\n",
              "      --bg-color: #E8F0FE;\n",
              "      --fill-color: #1967D2;\n",
              "      --hover-bg-color: #E2EBFA;\n",
              "      --hover-fill-color: #174EA6;\n",
              "      --disabled-fill-color: #AAA;\n",
              "      --disabled-bg-color: #DDD;\n",
              "  }\n",
              "\n",
              "  [theme=dark] .colab-df-quickchart {\n",
              "      --bg-color: #3B4455;\n",
              "      --fill-color: #D2E3FC;\n",
              "      --hover-bg-color: #434B5C;\n",
              "      --hover-fill-color: #FFFFFF;\n",
              "      --disabled-bg-color: #3B4455;\n",
              "      --disabled-fill-color: #666;\n",
              "  }\n",
              "\n",
              "  .colab-df-quickchart {\n",
              "    background-color: var(--bg-color);\n",
              "    border: none;\n",
              "    border-radius: 50%;\n",
              "    cursor: pointer;\n",
              "    display: none;\n",
              "    fill: var(--fill-color);\n",
              "    height: 32px;\n",
              "    padding: 0;\n",
              "    width: 32px;\n",
              "  }\n",
              "\n",
              "  .colab-df-quickchart:hover {\n",
              "    background-color: var(--hover-bg-color);\n",
              "    box-shadow: 0 1px 2px rgba(60, 64, 67, 0.3), 0 1px 3px 1px rgba(60, 64, 67, 0.15);\n",
              "    fill: var(--button-hover-fill-color);\n",
              "  }\n",
              "\n",
              "  .colab-df-quickchart-complete:disabled,\n",
              "  .colab-df-quickchart-complete:disabled:hover {\n",
              "    background-color: var(--disabled-bg-color);\n",
              "    fill: var(--disabled-fill-color);\n",
              "    box-shadow: none;\n",
              "  }\n",
              "\n",
              "  .colab-df-spinner {\n",
              "    border: 2px solid var(--fill-color);\n",
              "    border-color: transparent;\n",
              "    border-bottom-color: var(--fill-color);\n",
              "    animation:\n",
              "      spin 1s steps(1) infinite;\n",
              "  }\n",
              "\n",
              "  @keyframes spin {\n",
              "    0% {\n",
              "      border-color: transparent;\n",
              "      border-bottom-color: var(--fill-color);\n",
              "      border-left-color: var(--fill-color);\n",
              "    }\n",
              "    20% {\n",
              "      border-color: transparent;\n",
              "      border-left-color: var(--fill-color);\n",
              "      border-top-color: var(--fill-color);\n",
              "    }\n",
              "    30% {\n",
              "      border-color: transparent;\n",
              "      border-left-color: var(--fill-color);\n",
              "      border-top-color: var(--fill-color);\n",
              "      border-right-color: var(--fill-color);\n",
              "    }\n",
              "    40% {\n",
              "      border-color: transparent;\n",
              "      border-right-color: var(--fill-color);\n",
              "      border-top-color: var(--fill-color);\n",
              "    }\n",
              "    60% {\n",
              "      border-color: transparent;\n",
              "      border-right-color: var(--fill-color);\n",
              "    }\n",
              "    80% {\n",
              "      border-color: transparent;\n",
              "      border-right-color: var(--fill-color);\n",
              "      border-bottom-color: var(--fill-color);\n",
              "    }\n",
              "    90% {\n",
              "      border-color: transparent;\n",
              "      border-bottom-color: var(--fill-color);\n",
              "    }\n",
              "  }\n",
              "</style>\n",
              "\n",
              "  <script>\n",
              "    async function quickchart(key) {\n",
              "      const quickchartButtonEl =\n",
              "        document.querySelector('#' + key + ' button');\n",
              "      quickchartButtonEl.disabled = true;  // To prevent multiple clicks.\n",
              "      quickchartButtonEl.classList.add('colab-df-spinner');\n",
              "      try {\n",
              "        const charts = await google.colab.kernel.invokeFunction(\n",
              "            'suggestCharts', [key], {});\n",
              "      } catch (error) {\n",
              "        console.error('Error during call to suggestCharts:', error);\n",
              "      }\n",
              "      quickchartButtonEl.classList.remove('colab-df-spinner');\n",
              "      quickchartButtonEl.classList.add('colab-df-quickchart-complete');\n",
              "    }\n",
              "    (() => {\n",
              "      let quickchartButtonEl =\n",
              "        document.querySelector('#df-436ee9e2-9475-4557-ad04-a6e07d638f8c button');\n",
              "      quickchartButtonEl.style.display =\n",
              "        google.colab.kernel.accessAllowed ? 'block' : 'none';\n",
              "    })();\n",
              "  </script>\n",
              "</div>\n",
              "\n",
              "  <div id=\"id_3ae09f36-6631-4eec-80a6-f978c1fcc49e\">\n",
              "    <style>\n",
              "      .colab-df-generate {\n",
              "        background-color: #E8F0FE;\n",
              "        border: none;\n",
              "        border-radius: 50%;\n",
              "        cursor: pointer;\n",
              "        display: none;\n",
              "        fill: #1967D2;\n",
              "        height: 32px;\n",
              "        padding: 0 0 0 0;\n",
              "        width: 32px;\n",
              "      }\n",
              "\n",
              "      .colab-df-generate:hover {\n",
              "        background-color: #E2EBFA;\n",
              "        box-shadow: 0px 1px 2px rgba(60, 64, 67, 0.3), 0px 1px 3px 1px rgba(60, 64, 67, 0.15);\n",
              "        fill: #174EA6;\n",
              "      }\n",
              "\n",
              "      [theme=dark] .colab-df-generate {\n",
              "        background-color: #3B4455;\n",
              "        fill: #D2E3FC;\n",
              "      }\n",
              "\n",
              "      [theme=dark] .colab-df-generate:hover {\n",
              "        background-color: #434B5C;\n",
              "        box-shadow: 0px 1px 3px 1px rgba(0, 0, 0, 0.15);\n",
              "        filter: drop-shadow(0px 1px 2px rgba(0, 0, 0, 0.3));\n",
              "        fill: #FFFFFF;\n",
              "      }\n",
              "    </style>\n",
              "    <button class=\"colab-df-generate\" onclick=\"generateWithVariable('ratings')\"\n",
              "            title=\"Generate code using this dataframe.\"\n",
              "            style=\"display:none;\">\n",
              "\n",
              "  <svg xmlns=\"http://www.w3.org/2000/svg\" height=\"24px\"viewBox=\"0 0 24 24\"\n",
              "       width=\"24px\">\n",
              "    <path d=\"M7,19H8.4L18.45,9,17,7.55,7,17.6ZM5,21V16.75L18.45,3.32a2,2,0,0,1,2.83,0l1.4,1.43a1.91,1.91,0,0,1,.58,1.4,1.91,1.91,0,0,1-.58,1.4L9.25,21ZM18.45,9,17,7.55Zm-12,3A5.31,5.31,0,0,0,4.9,8.1,5.31,5.31,0,0,0,1,6.5,5.31,5.31,0,0,0,4.9,4.9,5.31,5.31,0,0,0,6.5,1,5.31,5.31,0,0,0,8.1,4.9,5.31,5.31,0,0,0,12,6.5,5.46,5.46,0,0,0,6.5,12Z\"/>\n",
              "  </svg>\n",
              "    </button>\n",
              "    <script>\n",
              "      (() => {\n",
              "      const buttonEl =\n",
              "        document.querySelector('#id_3ae09f36-6631-4eec-80a6-f978c1fcc49e button.colab-df-generate');\n",
              "      buttonEl.style.display =\n",
              "        google.colab.kernel.accessAllowed ? 'block' : 'none';\n",
              "\n",
              "      buttonEl.onclick = () => {\n",
              "        google.colab.notebook.generateWithVariable('ratings');\n",
              "      }\n",
              "      })();\n",
              "    </script>\n",
              "  </div>\n",
              "\n",
              "    </div>\n",
              "  </div>\n"
            ],
            "application/vnd.google.colaboratory.intrinsic+json": {
              "type": "dataframe",
              "variable_name": "ratings"
            }
          },
          "metadata": {},
          "execution_count": 9
        }
      ]
    },
    {
      "cell_type": "code",
      "source": [
        "dls = CollabDataLoaders.from_df(ratings, item_name='title', bs=10000, use_nn=False)\n",
        "dls.show_batch()"
      ],
      "metadata": {
        "colab": {
          "base_uri": "https://localhost:8080/",
          "height": 363
        },
        "id": "EbhgTU-Whjis",
        "outputId": "41635871-699d-4b4b-f8e0-826d33970f2d"
      },
      "execution_count": 10,
      "outputs": [
        {
          "output_type": "display_data",
          "data": {
            "text/plain": [
              "<IPython.core.display.HTML object>"
            ],
            "text/html": [
              "<table border=\"1\" class=\"dataframe\">\n",
              "  <thead>\n",
              "    <tr style=\"text-align: right;\">\n",
              "      <th></th>\n",
              "      <th>user</th>\n",
              "      <th>title</th>\n",
              "      <th>rating</th>\n",
              "    </tr>\n",
              "  </thead>\n",
              "  <tbody>\n",
              "    <tr>\n",
              "      <th>0</th>\n",
              "      <td>3366</td>\n",
              "      <td>Echo Park</td>\n",
              "      <td>4</td>\n",
              "    </tr>\n",
              "    <tr>\n",
              "      <th>1</th>\n",
              "      <td>7778</td>\n",
              "      <td>論語 [Lún Yǔ]</td>\n",
              "      <td>3</td>\n",
              "    </tr>\n",
              "    <tr>\n",
              "      <th>2</th>\n",
              "      <td>4597</td>\n",
              "      <td>The Souls of Black Folk</td>\n",
              "      <td>3</td>\n",
              "    </tr>\n",
              "    <tr>\n",
              "      <th>3</th>\n",
              "      <td>8388</td>\n",
              "      <td>Elven Star (The Death Gate Cycle, #2)</td>\n",
              "      <td>2</td>\n",
              "    </tr>\n",
              "    <tr>\n",
              "      <th>4</th>\n",
              "      <td>8983</td>\n",
              "      <td>The Secret Between Us</td>\n",
              "      <td>3</td>\n",
              "    </tr>\n",
              "    <tr>\n",
              "      <th>5</th>\n",
              "      <td>5499</td>\n",
              "      <td>An Ice Cold Grave</td>\n",
              "      <td>4</td>\n",
              "    </tr>\n",
              "    <tr>\n",
              "      <th>6</th>\n",
              "      <td>8035</td>\n",
              "      <td>Black Sun Rising</td>\n",
              "      <td>5</td>\n",
              "    </tr>\n",
              "    <tr>\n",
              "      <th>7</th>\n",
              "      <td>9128</td>\n",
              "      <td>Retribution</td>\n",
              "      <td>4</td>\n",
              "    </tr>\n",
              "    <tr>\n",
              "      <th>8</th>\n",
              "      <td>6815</td>\n",
              "      <td>#na#</td>\n",
              "      <td>5</td>\n",
              "    </tr>\n",
              "    <tr>\n",
              "      <th>9</th>\n",
              "      <td>7078</td>\n",
              "      <td>#na#</td>\n",
              "      <td>3</td>\n",
              "    </tr>\n",
              "  </tbody>\n",
              "</table>"
            ]
          },
          "metadata": {}
        }
      ]
    },
    {
      "cell_type": "code",
      "source": [
        "class RecommenderNN (Module):\n",
        "    def __init__(self, user_sz, item_sz, range=[0.5,5.5], n_act=100):\n",
        "\n",
        "        self.user_embedding  = Embedding(*user_sz)\n",
        "        self.book_embedding = Embedding(*item_sz)\n",
        "\n",
        "        self.layers = nn.Sequential(\n",
        "            nn.Linear(user_sz[1]+item_sz[1], n_act),\n",
        "            nn.ReLU(),\n",
        "            nn.Linear(n_act, 1))\n",
        "\n",
        "        self.min = range[0]\n",
        "        self.max = range[1]\n",
        "\n",
        "    def forward(self, x):\n",
        "        users   = self.user_embedding(x[:,0])\n",
        "        books  = self.book_embedding(x[:,1])\n",
        "        # Makes it user + books\n",
        "        embeddings = torch.cat([users, books], dim=1)\n",
        "\n",
        "        raw_rating = self.layers(embeddings)\n",
        "\n",
        "        return torch.sigmoid(raw_rating)*(self.max-self.min) + self.min"
      ],
      "metadata": {
        "id": "N00kugCyhk6M"
      },
      "execution_count": 11,
      "outputs": []
    },
    {
      "cell_type": "code",
      "source": [
        "embs = get_emb_sz(dls)\n",
        "\n",
        "model = RecommenderNN(*embs, [0.5,5.5])\n",
        "learn = Learner(dls, model, loss_func=MSELossFlat(), metrics=rmse)\n",
        "\n",
        "learn.fit_one_cycle(5, 5e-3, wd=0.1)"
      ],
      "metadata": {
        "colab": {
          "base_uri": "https://localhost:8080/",
          "height": 206
        },
        "id": "4NVfsMw9hoE5",
        "outputId": "ee0297db-e1cf-4ea1-e2e6-e9b356e28b34"
      },
      "execution_count": 12,
      "outputs": [
        {
          "output_type": "display_data",
          "data": {
            "text/plain": [
              "<IPython.core.display.HTML object>"
            ],
            "text/html": [
              "\n",
              "<style>\n",
              "    /* Turns off some styling */\n",
              "    progress {\n",
              "        /* gets rid of default border in Firefox and Opera. */\n",
              "        border: none;\n",
              "        /* Needs to be in here for Safari polyfill so background images work as expected. */\n",
              "        background-size: auto;\n",
              "    }\n",
              "    progress:not([value]), progress:not([value])::-webkit-progress-bar {\n",
              "        background: repeating-linear-gradient(45deg, #7e7e7e, #7e7e7e 10px, #5c5c5c 10px, #5c5c5c 20px);\n",
              "    }\n",
              "    .progress-bar-interrupted, .progress-bar-interrupted::-webkit-progress-bar {\n",
              "        background: #F44336;\n",
              "    }\n",
              "</style>\n"
            ]
          },
          "metadata": {}
        },
        {
          "output_type": "display_data",
          "data": {
            "text/plain": [
              "<IPython.core.display.HTML object>"
            ],
            "text/html": [
              "<table border=\"1\" class=\"dataframe\">\n",
              "  <thead>\n",
              "    <tr style=\"text-align: left;\">\n",
              "      <th>epoch</th>\n",
              "      <th>train_loss</th>\n",
              "      <th>valid_loss</th>\n",
              "      <th>_rmse</th>\n",
              "      <th>time</th>\n",
              "    </tr>\n",
              "  </thead>\n",
              "  <tbody>\n",
              "    <tr>\n",
              "      <td>0</td>\n",
              "      <td>1.094552</td>\n",
              "      <td>0.946939</td>\n",
              "      <td>0.973108</td>\n",
              "      <td>00:04</td>\n",
              "    </tr>\n",
              "    <tr>\n",
              "      <td>1</td>\n",
              "      <td>0.925749</td>\n",
              "      <td>0.915133</td>\n",
              "      <td>0.956626</td>\n",
              "      <td>00:01</td>\n",
              "    </tr>\n",
              "    <tr>\n",
              "      <td>2</td>\n",
              "      <td>0.893760</td>\n",
              "      <td>0.910588</td>\n",
              "      <td>0.954247</td>\n",
              "      <td>00:01</td>\n",
              "    </tr>\n",
              "    <tr>\n",
              "      <td>3</td>\n",
              "      <td>0.883093</td>\n",
              "      <td>0.908515</td>\n",
              "      <td>0.953161</td>\n",
              "      <td>00:01</td>\n",
              "    </tr>\n",
              "    <tr>\n",
              "      <td>4</td>\n",
              "      <td>0.880130</td>\n",
              "      <td>0.907550</td>\n",
              "      <td>0.952654</td>\n",
              "      <td>00:01</td>\n",
              "    </tr>\n",
              "  </tbody>\n",
              "</table>"
            ]
          },
          "metadata": {}
        }
      ]
    },
    {
      "cell_type": "markdown",
      "source": [
        "## 2. Cosine Similarity\n",
        "\n",
        "We can use the embeddings for each title to determine which items are closest to each other (alternatively, which other user has the most similar taste). Imagine each embedding as a vector in space. Two items are similar to each other if the angle between their vectors, $\\theta$ is small. This is usually reported as $\\cos\\theta$, because it's fast to calculate. But it's also useful for humans: $\\cos0^\\circ=1$, and $\\cos90^\\circ=0$, so it will always be higher for similar vectors. (In general, for high dimensional spaces, two random directions are usually close to orthogonal to each other)\n",
        "\n",
        "Below is code [adapted from the textbook](https://github.com/fastai/fastbook/blob/master/08_collab.ipynb) which will find some similar titles based on one submitted. You almost certainly will need to modify your code based on the exact format of your dataset.\n",
        "\n",
        "(a) First, get the code below to work. It's based on when I did the homework, and I was looking at board games."
      ],
      "metadata": {
        "id": "t4M2a9pCaTzP"
      }
    },
    {
      "cell_type": "code",
      "source": [
        "# Getting a list of some of the unique titles in the dataset\n",
        "ratings[\"title\"].unique()[1:10]"
      ],
      "metadata": {
        "id": "TibAXfivk7HQ",
        "colab": {
          "base_uri": "https://localhost:8080/"
        },
        "outputId": "85b0ac98-aa1b-4d42-b322-5a02785fcb71"
      },
      "execution_count": 13,
      "outputs": [
        {
          "output_type": "execute_result",
          "data": {
            "text/plain": [
              "array([\"Harry Potter and the Philosopher's Stone\", 'Twilight',\n",
              "       'To Kill a Mockingbird', 'The Great Gatsby',\n",
              "       'The Fault in Our Stars', 'The Hobbit or There and Back Again',\n",
              "       'The Catcher in the Rye', 'Angels & Demons ',\n",
              "       'Pride and Prejudice'], dtype=object)"
            ]
          },
          "metadata": {},
          "execution_count": 13
        }
      ]
    },
    {
      "cell_type": "code",
      "source": [
        "# This is the item's name that I'm looking up.\n",
        "# I did this assignment with board games\n",
        "itemname = \"The Fault in Our Stars\""
      ],
      "metadata": {
        "id": "1cB40yZKnIfz"
      },
      "execution_count": 14,
      "outputs": []
    },
    {
      "cell_type": "code",
      "source": [
        "weights = learn.model.book_embedding.weight                  # Grab the embeddings for the items\n",
        "idx = torch.tensor(dls.classes['title'].o2i[itemname]) # Determine where this item is\n",
        "idx # This will be 0 if the item you looked up doesn't exist\n",
        "    # (or you picked the 0th entry, but you should know that)"
      ],
      "metadata": {
        "id": "mtZWkT2HaV0I",
        "colab": {
          "base_uri": "https://localhost:8080/"
        },
        "outputId": "73f5eb84-b30b-4021-f24e-22fbcec43bfa"
      },
      "execution_count": 15,
      "outputs": [
        {
          "output_type": "execute_result",
          "data": {
            "text/plain": [
              "tensor(6479)"
            ]
          },
          "metadata": {},
          "execution_count": 15
        }
      ]
    },
    {
      "cell_type": "code",
      "source": [
        "# Calculate cosine distances\n",
        "distances = nn.CosineSimilarity()(weights, weights[idx,None])\n",
        "\n",
        "# Sort finding the closest distance\n",
        "top10 = distances.argsort(descending=True)[0:10]\n",
        "dls.classes['title'][top10]\n",
        "for id in top10:\n",
        "    print(dls.classes['title'][id])"
      ],
      "metadata": {
        "id": "3KZ92vqylcPt",
        "colab": {
          "base_uri": "https://localhost:8080/"
        },
        "outputId": "848a10a3-1a39-4aa3-c0d0-1d545523412f"
      },
      "execution_count": 16,
      "outputs": [
        {
          "output_type": "stream",
          "name": "stdout",
          "text": [
            "The Fault in Our Stars\n",
            "The Further Adventures of Sherlock Holmes (Classic Crime)\n",
            "The Blood Mirror\n",
            "Transmetropolitan Vol. 4: The New Scum\n",
            "The Crippled God\n",
            "Kitchen no Ohimesama\n",
            "UnDivided\n",
            "The Sweet Gum Tree\n",
            "Saga, Volume Five\n",
            "Peace Is Every Step: The Path of Mindfulness in Everyday Life\n"
          ]
        }
      ]
    },
    {
      "cell_type": "markdown",
      "source": [
        "(b) Produce a few recommendation lists based on items in the dataset. Comment on the results, especially relative to the model accuracy you got in Problem 1.\n",
        "\n",
        "Do you see any trends in the predictions?"
      ],
      "metadata": {
        "id": "MpHElmIpW0cT"
      }
    },
    {
      "cell_type": "code",
      "source": [
        "# UnDivided and Kitchen no Ohimesama are similar predictions to the Fault in Our\n",
        "# Stars because they are both aimed at young adult readers, similar to the Fault\n",
        "# in Our Stars. The rest of the predictions are all more geared towards adults,\n",
        "# but could also be read by young adults or older teens. Based on the model\n",
        "# accuracy from Problem 1, these predictions are 95% accurate to the input.\n",
        "# I would say this is mostly true because the books are in a similar realm in\n",
        "# terms of all being geared towards young adults to adults."
      ],
      "metadata": {
        "id": "rVWBe-KpW0kv"
      },
      "execution_count": null,
      "outputs": []
    },
    {
      "cell_type": "markdown",
      "source": [
        "(c) If we're using the dot product bias model, do you expect two similar songs of different popularity to have a higher or lower cosine similarity than two very popular songs which are otherwise quite different?\n",
        "\n",
        "Explain."
      ],
      "metadata": {
        "id": "4N4yDfCVXFAt"
      }
    },
    {
      "cell_type": "code",
      "source": [
        "# If we're using the dot product bias model, I expect two similar songs of different\n",
        "# popularity to have a higher cosine similarity than two very popular songs which are\n",
        "# otherwise quite different because similar songs would have several similar features\n",
        "# that would have smaller θ values between them which would mean a higher cosine similarity.\n",
        "# On the other hands, with two very popular songs there may be some vectors that overlao\n",
        "# because of similar traits that appeal to a wide audeince. If other than that they\n",
        "# are different, than this might lead to a lower cosine similarity because all the other\n",
        "# different features of the songs would cause them to have larger θ values."
      ],
      "metadata": {
        "id": "Wyn3bEUNUl7o"
      },
      "execution_count": null,
      "outputs": []
    },
    {
      "cell_type": "markdown",
      "source": [
        "## 3. Modifying the Model\n",
        "\n",
        "To add inputs to the model beyond the user, title, and rating, we're going to have to take a few steps:\n",
        "\n",
        "1. Change the input data\n",
        "2. Change the DataLoaders\n",
        "3. Modify the model to take extra inputs\n",
        "\n",
        "Let me lead you through those."
      ],
      "metadata": {
        "id": "ki_QLe44BFQw"
      }
    },
    {
      "cell_type": "markdown",
      "source": [
        "(a) Modify the DataFrame that contains your dataset to add at least one continuous variable related to the *item* or *title* that you're making predictions for."
      ],
      "metadata": {
        "id": "H0QEFH6FU8Wq"
      }
    },
    {
      "cell_type": "code",
      "source": [
        "new_books = pd.read_csv(\"books.csv\")\n",
        "new_books = new_books[[\"id\",\"original_title\", \"original_publication_year\"]]"
      ],
      "metadata": {
        "id": "ziDIRuirWAy0"
      },
      "execution_count": 18,
      "outputs": []
    },
    {
      "cell_type": "code",
      "source": [
        "new_books.rename(columns = {'id':'user'}, inplace = True)"
      ],
      "metadata": {
        "id": "TTWGQuo-dc2X"
      },
      "execution_count": 19,
      "outputs": []
    },
    {
      "cell_type": "code",
      "source": [
        "new_books.rename(columns = {'original_title':'title'}, inplace = True)"
      ],
      "metadata": {
        "id": "-0L_z26jdhY-"
      },
      "execution_count": 20,
      "outputs": []
    },
    {
      "cell_type": "code",
      "source": [
        "new_ratings = pd.merge(ratings, new_books, on=\"user\")\n",
        "new_ratings"
      ],
      "metadata": {
        "colab": {
          "base_uri": "https://localhost:8080/",
          "height": 424
        },
        "id": "MjRyApHQaLxv",
        "outputId": "262dc9fa-dccc-4ff5-9229-82c42888ac66"
      },
      "execution_count": 21,
      "outputs": [
        {
          "output_type": "execute_result",
          "data": {
            "text/plain": [
              "         user  user_id  rating              title_x              title_y  \\\n",
              "0           1      314       5     The Hunger Games     The Hunger Games   \n",
              "1           1      439       3     The Hunger Games     The Hunger Games   \n",
              "2           1      588       5     The Hunger Games     The Hunger Games   \n",
              "3           1     1169       4     The Hunger Games     The Hunger Games   \n",
              "4           1     1185       4     The Hunger Games     The Hunger Games   \n",
              "...       ...      ...     ...                  ...                  ...   \n",
              "981751  10000    48386       5  The First World War  The First World War   \n",
              "981752  10000    49007       4  The First World War  The First World War   \n",
              "981753  10000    49383       5  The First World War  The First World War   \n",
              "981754  10000    50124       5  The First World War  The First World War   \n",
              "981755  10000    51328       1  The First World War  The First World War   \n",
              "\n",
              "        original_publication_year  \n",
              "0                          2008.0  \n",
              "1                          2008.0  \n",
              "2                          2008.0  \n",
              "3                          2008.0  \n",
              "4                          2008.0  \n",
              "...                           ...  \n",
              "981751                     1998.0  \n",
              "981752                     1998.0  \n",
              "981753                     1998.0  \n",
              "981754                     1998.0  \n",
              "981755                     1998.0  \n",
              "\n",
              "[981756 rows x 6 columns]"
            ],
            "text/html": [
              "\n",
              "  <div id=\"df-a971064a-8ae5-4822-b999-62181f85067e\" class=\"colab-df-container\">\n",
              "    <div>\n",
              "<style scoped>\n",
              "    .dataframe tbody tr th:only-of-type {\n",
              "        vertical-align: middle;\n",
              "    }\n",
              "\n",
              "    .dataframe tbody tr th {\n",
              "        vertical-align: top;\n",
              "    }\n",
              "\n",
              "    .dataframe thead th {\n",
              "        text-align: right;\n",
              "    }\n",
              "</style>\n",
              "<table border=\"1\" class=\"dataframe\">\n",
              "  <thead>\n",
              "    <tr style=\"text-align: right;\">\n",
              "      <th></th>\n",
              "      <th>user</th>\n",
              "      <th>user_id</th>\n",
              "      <th>rating</th>\n",
              "      <th>title_x</th>\n",
              "      <th>title_y</th>\n",
              "      <th>original_publication_year</th>\n",
              "    </tr>\n",
              "  </thead>\n",
              "  <tbody>\n",
              "    <tr>\n",
              "      <th>0</th>\n",
              "      <td>1</td>\n",
              "      <td>314</td>\n",
              "      <td>5</td>\n",
              "      <td>The Hunger Games</td>\n",
              "      <td>The Hunger Games</td>\n",
              "      <td>2008.0</td>\n",
              "    </tr>\n",
              "    <tr>\n",
              "      <th>1</th>\n",
              "      <td>1</td>\n",
              "      <td>439</td>\n",
              "      <td>3</td>\n",
              "      <td>The Hunger Games</td>\n",
              "      <td>The Hunger Games</td>\n",
              "      <td>2008.0</td>\n",
              "    </tr>\n",
              "    <tr>\n",
              "      <th>2</th>\n",
              "      <td>1</td>\n",
              "      <td>588</td>\n",
              "      <td>5</td>\n",
              "      <td>The Hunger Games</td>\n",
              "      <td>The Hunger Games</td>\n",
              "      <td>2008.0</td>\n",
              "    </tr>\n",
              "    <tr>\n",
              "      <th>3</th>\n",
              "      <td>1</td>\n",
              "      <td>1169</td>\n",
              "      <td>4</td>\n",
              "      <td>The Hunger Games</td>\n",
              "      <td>The Hunger Games</td>\n",
              "      <td>2008.0</td>\n",
              "    </tr>\n",
              "    <tr>\n",
              "      <th>4</th>\n",
              "      <td>1</td>\n",
              "      <td>1185</td>\n",
              "      <td>4</td>\n",
              "      <td>The Hunger Games</td>\n",
              "      <td>The Hunger Games</td>\n",
              "      <td>2008.0</td>\n",
              "    </tr>\n",
              "    <tr>\n",
              "      <th>...</th>\n",
              "      <td>...</td>\n",
              "      <td>...</td>\n",
              "      <td>...</td>\n",
              "      <td>...</td>\n",
              "      <td>...</td>\n",
              "      <td>...</td>\n",
              "    </tr>\n",
              "    <tr>\n",
              "      <th>981751</th>\n",
              "      <td>10000</td>\n",
              "      <td>48386</td>\n",
              "      <td>5</td>\n",
              "      <td>The First World War</td>\n",
              "      <td>The First World War</td>\n",
              "      <td>1998.0</td>\n",
              "    </tr>\n",
              "    <tr>\n",
              "      <th>981752</th>\n",
              "      <td>10000</td>\n",
              "      <td>49007</td>\n",
              "      <td>4</td>\n",
              "      <td>The First World War</td>\n",
              "      <td>The First World War</td>\n",
              "      <td>1998.0</td>\n",
              "    </tr>\n",
              "    <tr>\n",
              "      <th>981753</th>\n",
              "      <td>10000</td>\n",
              "      <td>49383</td>\n",
              "      <td>5</td>\n",
              "      <td>The First World War</td>\n",
              "      <td>The First World War</td>\n",
              "      <td>1998.0</td>\n",
              "    </tr>\n",
              "    <tr>\n",
              "      <th>981754</th>\n",
              "      <td>10000</td>\n",
              "      <td>50124</td>\n",
              "      <td>5</td>\n",
              "      <td>The First World War</td>\n",
              "      <td>The First World War</td>\n",
              "      <td>1998.0</td>\n",
              "    </tr>\n",
              "    <tr>\n",
              "      <th>981755</th>\n",
              "      <td>10000</td>\n",
              "      <td>51328</td>\n",
              "      <td>1</td>\n",
              "      <td>The First World War</td>\n",
              "      <td>The First World War</td>\n",
              "      <td>1998.0</td>\n",
              "    </tr>\n",
              "  </tbody>\n",
              "</table>\n",
              "<p>981756 rows × 6 columns</p>\n",
              "</div>\n",
              "    <div class=\"colab-df-buttons\">\n",
              "\n",
              "  <div class=\"colab-df-container\">\n",
              "    <button class=\"colab-df-convert\" onclick=\"convertToInteractive('df-a971064a-8ae5-4822-b999-62181f85067e')\"\n",
              "            title=\"Convert this dataframe to an interactive table.\"\n",
              "            style=\"display:none;\">\n",
              "\n",
              "  <svg xmlns=\"http://www.w3.org/2000/svg\" height=\"24px\" viewBox=\"0 -960 960 960\">\n",
              "    <path d=\"M120-120v-720h720v720H120Zm60-500h600v-160H180v160Zm220 220h160v-160H400v160Zm0 220h160v-160H400v160ZM180-400h160v-160H180v160Zm440 0h160v-160H620v160ZM180-180h160v-160H180v160Zm440 0h160v-160H620v160Z\"/>\n",
              "  </svg>\n",
              "    </button>\n",
              "\n",
              "  <style>\n",
              "    .colab-df-container {\n",
              "      display:flex;\n",
              "      gap: 12px;\n",
              "    }\n",
              "\n",
              "    .colab-df-convert {\n",
              "      background-color: #E8F0FE;\n",
              "      border: none;\n",
              "      border-radius: 50%;\n",
              "      cursor: pointer;\n",
              "      display: none;\n",
              "      fill: #1967D2;\n",
              "      height: 32px;\n",
              "      padding: 0 0 0 0;\n",
              "      width: 32px;\n",
              "    }\n",
              "\n",
              "    .colab-df-convert:hover {\n",
              "      background-color: #E2EBFA;\n",
              "      box-shadow: 0px 1px 2px rgba(60, 64, 67, 0.3), 0px 1px 3px 1px rgba(60, 64, 67, 0.15);\n",
              "      fill: #174EA6;\n",
              "    }\n",
              "\n",
              "    .colab-df-buttons div {\n",
              "      margin-bottom: 4px;\n",
              "    }\n",
              "\n",
              "    [theme=dark] .colab-df-convert {\n",
              "      background-color: #3B4455;\n",
              "      fill: #D2E3FC;\n",
              "    }\n",
              "\n",
              "    [theme=dark] .colab-df-convert:hover {\n",
              "      background-color: #434B5C;\n",
              "      box-shadow: 0px 1px 3px 1px rgba(0, 0, 0, 0.15);\n",
              "      filter: drop-shadow(0px 1px 2px rgba(0, 0, 0, 0.3));\n",
              "      fill: #FFFFFF;\n",
              "    }\n",
              "  </style>\n",
              "\n",
              "    <script>\n",
              "      const buttonEl =\n",
              "        document.querySelector('#df-a971064a-8ae5-4822-b999-62181f85067e button.colab-df-convert');\n",
              "      buttonEl.style.display =\n",
              "        google.colab.kernel.accessAllowed ? 'block' : 'none';\n",
              "\n",
              "      async function convertToInteractive(key) {\n",
              "        const element = document.querySelector('#df-a971064a-8ae5-4822-b999-62181f85067e');\n",
              "        const dataTable =\n",
              "          await google.colab.kernel.invokeFunction('convertToInteractive',\n",
              "                                                    [key], {});\n",
              "        if (!dataTable) return;\n",
              "\n",
              "        const docLinkHtml = 'Like what you see? Visit the ' +\n",
              "          '<a target=\"_blank\" href=https://colab.research.google.com/notebooks/data_table.ipynb>data table notebook</a>'\n",
              "          + ' to learn more about interactive tables.';\n",
              "        element.innerHTML = '';\n",
              "        dataTable['output_type'] = 'display_data';\n",
              "        await google.colab.output.renderOutput(dataTable, element);\n",
              "        const docLink = document.createElement('div');\n",
              "        docLink.innerHTML = docLinkHtml;\n",
              "        element.appendChild(docLink);\n",
              "      }\n",
              "    </script>\n",
              "  </div>\n",
              "\n",
              "\n",
              "<div id=\"df-a38e1cb9-2685-46cf-a98e-14ff8208bce6\">\n",
              "  <button class=\"colab-df-quickchart\" onclick=\"quickchart('df-a38e1cb9-2685-46cf-a98e-14ff8208bce6')\"\n",
              "            title=\"Suggest charts\"\n",
              "            style=\"display:none;\">\n",
              "\n",
              "<svg xmlns=\"http://www.w3.org/2000/svg\" height=\"24px\"viewBox=\"0 0 24 24\"\n",
              "     width=\"24px\">\n",
              "    <g>\n",
              "        <path d=\"M19 3H5c-1.1 0-2 .9-2 2v14c0 1.1.9 2 2 2h14c1.1 0 2-.9 2-2V5c0-1.1-.9-2-2-2zM9 17H7v-7h2v7zm4 0h-2V7h2v10zm4 0h-2v-4h2v4z\"/>\n",
              "    </g>\n",
              "</svg>\n",
              "  </button>\n",
              "\n",
              "<style>\n",
              "  .colab-df-quickchart {\n",
              "      --bg-color: #E8F0FE;\n",
              "      --fill-color: #1967D2;\n",
              "      --hover-bg-color: #E2EBFA;\n",
              "      --hover-fill-color: #174EA6;\n",
              "      --disabled-fill-color: #AAA;\n",
              "      --disabled-bg-color: #DDD;\n",
              "  }\n",
              "\n",
              "  [theme=dark] .colab-df-quickchart {\n",
              "      --bg-color: #3B4455;\n",
              "      --fill-color: #D2E3FC;\n",
              "      --hover-bg-color: #434B5C;\n",
              "      --hover-fill-color: #FFFFFF;\n",
              "      --disabled-bg-color: #3B4455;\n",
              "      --disabled-fill-color: #666;\n",
              "  }\n",
              "\n",
              "  .colab-df-quickchart {\n",
              "    background-color: var(--bg-color);\n",
              "    border: none;\n",
              "    border-radius: 50%;\n",
              "    cursor: pointer;\n",
              "    display: none;\n",
              "    fill: var(--fill-color);\n",
              "    height: 32px;\n",
              "    padding: 0;\n",
              "    width: 32px;\n",
              "  }\n",
              "\n",
              "  .colab-df-quickchart:hover {\n",
              "    background-color: var(--hover-bg-color);\n",
              "    box-shadow: 0 1px 2px rgba(60, 64, 67, 0.3), 0 1px 3px 1px rgba(60, 64, 67, 0.15);\n",
              "    fill: var(--button-hover-fill-color);\n",
              "  }\n",
              "\n",
              "  .colab-df-quickchart-complete:disabled,\n",
              "  .colab-df-quickchart-complete:disabled:hover {\n",
              "    background-color: var(--disabled-bg-color);\n",
              "    fill: var(--disabled-fill-color);\n",
              "    box-shadow: none;\n",
              "  }\n",
              "\n",
              "  .colab-df-spinner {\n",
              "    border: 2px solid var(--fill-color);\n",
              "    border-color: transparent;\n",
              "    border-bottom-color: var(--fill-color);\n",
              "    animation:\n",
              "      spin 1s steps(1) infinite;\n",
              "  }\n",
              "\n",
              "  @keyframes spin {\n",
              "    0% {\n",
              "      border-color: transparent;\n",
              "      border-bottom-color: var(--fill-color);\n",
              "      border-left-color: var(--fill-color);\n",
              "    }\n",
              "    20% {\n",
              "      border-color: transparent;\n",
              "      border-left-color: var(--fill-color);\n",
              "      border-top-color: var(--fill-color);\n",
              "    }\n",
              "    30% {\n",
              "      border-color: transparent;\n",
              "      border-left-color: var(--fill-color);\n",
              "      border-top-color: var(--fill-color);\n",
              "      border-right-color: var(--fill-color);\n",
              "    }\n",
              "    40% {\n",
              "      border-color: transparent;\n",
              "      border-right-color: var(--fill-color);\n",
              "      border-top-color: var(--fill-color);\n",
              "    }\n",
              "    60% {\n",
              "      border-color: transparent;\n",
              "      border-right-color: var(--fill-color);\n",
              "    }\n",
              "    80% {\n",
              "      border-color: transparent;\n",
              "      border-right-color: var(--fill-color);\n",
              "      border-bottom-color: var(--fill-color);\n",
              "    }\n",
              "    90% {\n",
              "      border-color: transparent;\n",
              "      border-bottom-color: var(--fill-color);\n",
              "    }\n",
              "  }\n",
              "</style>\n",
              "\n",
              "  <script>\n",
              "    async function quickchart(key) {\n",
              "      const quickchartButtonEl =\n",
              "        document.querySelector('#' + key + ' button');\n",
              "      quickchartButtonEl.disabled = true;  // To prevent multiple clicks.\n",
              "      quickchartButtonEl.classList.add('colab-df-spinner');\n",
              "      try {\n",
              "        const charts = await google.colab.kernel.invokeFunction(\n",
              "            'suggestCharts', [key], {});\n",
              "      } catch (error) {\n",
              "        console.error('Error during call to suggestCharts:', error);\n",
              "      }\n",
              "      quickchartButtonEl.classList.remove('colab-df-spinner');\n",
              "      quickchartButtonEl.classList.add('colab-df-quickchart-complete');\n",
              "    }\n",
              "    (() => {\n",
              "      let quickchartButtonEl =\n",
              "        document.querySelector('#df-a38e1cb9-2685-46cf-a98e-14ff8208bce6 button');\n",
              "      quickchartButtonEl.style.display =\n",
              "        google.colab.kernel.accessAllowed ? 'block' : 'none';\n",
              "    })();\n",
              "  </script>\n",
              "</div>\n",
              "\n",
              "  <div id=\"id_45200a7c-9f1e-4f60-b298-143f1b207d7e\">\n",
              "    <style>\n",
              "      .colab-df-generate {\n",
              "        background-color: #E8F0FE;\n",
              "        border: none;\n",
              "        border-radius: 50%;\n",
              "        cursor: pointer;\n",
              "        display: none;\n",
              "        fill: #1967D2;\n",
              "        height: 32px;\n",
              "        padding: 0 0 0 0;\n",
              "        width: 32px;\n",
              "      }\n",
              "\n",
              "      .colab-df-generate:hover {\n",
              "        background-color: #E2EBFA;\n",
              "        box-shadow: 0px 1px 2px rgba(60, 64, 67, 0.3), 0px 1px 3px 1px rgba(60, 64, 67, 0.15);\n",
              "        fill: #174EA6;\n",
              "      }\n",
              "\n",
              "      [theme=dark] .colab-df-generate {\n",
              "        background-color: #3B4455;\n",
              "        fill: #D2E3FC;\n",
              "      }\n",
              "\n",
              "      [theme=dark] .colab-df-generate:hover {\n",
              "        background-color: #434B5C;\n",
              "        box-shadow: 0px 1px 3px 1px rgba(0, 0, 0, 0.15);\n",
              "        filter: drop-shadow(0px 1px 2px rgba(0, 0, 0, 0.3));\n",
              "        fill: #FFFFFF;\n",
              "      }\n",
              "    </style>\n",
              "    <button class=\"colab-df-generate\" onclick=\"generateWithVariable('new_ratings')\"\n",
              "            title=\"Generate code using this dataframe.\"\n",
              "            style=\"display:none;\">\n",
              "\n",
              "  <svg xmlns=\"http://www.w3.org/2000/svg\" height=\"24px\"viewBox=\"0 0 24 24\"\n",
              "       width=\"24px\">\n",
              "    <path d=\"M7,19H8.4L18.45,9,17,7.55,7,17.6ZM5,21V16.75L18.45,3.32a2,2,0,0,1,2.83,0l1.4,1.43a1.91,1.91,0,0,1,.58,1.4,1.91,1.91,0,0,1-.58,1.4L9.25,21ZM18.45,9,17,7.55Zm-12,3A5.31,5.31,0,0,0,4.9,8.1,5.31,5.31,0,0,0,1,6.5,5.31,5.31,0,0,0,4.9,4.9,5.31,5.31,0,0,0,6.5,1,5.31,5.31,0,0,0,8.1,4.9,5.31,5.31,0,0,0,12,6.5,5.46,5.46,0,0,0,6.5,12Z\"/>\n",
              "  </svg>\n",
              "    </button>\n",
              "    <script>\n",
              "      (() => {\n",
              "      const buttonEl =\n",
              "        document.querySelector('#id_45200a7c-9f1e-4f60-b298-143f1b207d7e button.colab-df-generate');\n",
              "      buttonEl.style.display =\n",
              "        google.colab.kernel.accessAllowed ? 'block' : 'none';\n",
              "\n",
              "      buttonEl.onclick = () => {\n",
              "        google.colab.notebook.generateWithVariable('new_ratings');\n",
              "      }\n",
              "      })();\n",
              "    </script>\n",
              "  </div>\n",
              "\n",
              "    </div>\n",
              "  </div>\n"
            ],
            "application/vnd.google.colaboratory.intrinsic+json": {
              "type": "dataframe",
              "variable_name": "new_ratings"
            }
          },
          "metadata": {},
          "execution_count": 21
        }
      ]
    },
    {
      "cell_type": "code",
      "source": [
        "del new_ratings[\"title_x\"]"
      ],
      "metadata": {
        "id": "qyeYC-ZWh4Vh"
      },
      "execution_count": 22,
      "outputs": []
    },
    {
      "cell_type": "code",
      "source": [
        "new_ratings.rename(columns = {'title_y':'title'}, inplace = True)"
      ],
      "metadata": {
        "id": "xSqkhQzwi4K8"
      },
      "execution_count": 23,
      "outputs": []
    },
    {
      "cell_type": "code",
      "source": [
        "new_ratings"
      ],
      "metadata": {
        "colab": {
          "base_uri": "https://localhost:8080/",
          "height": 424
        },
        "id": "wWO8s9LTktPX",
        "outputId": "8f516cb0-061e-4c46-d56e-31788e2db832"
      },
      "execution_count": 24,
      "outputs": [
        {
          "output_type": "execute_result",
          "data": {
            "text/plain": [
              "         user  user_id  rating                title  original_publication_year\n",
              "0           1      314       5     The Hunger Games                     2008.0\n",
              "1           1      439       3     The Hunger Games                     2008.0\n",
              "2           1      588       5     The Hunger Games                     2008.0\n",
              "3           1     1169       4     The Hunger Games                     2008.0\n",
              "4           1     1185       4     The Hunger Games                     2008.0\n",
              "...       ...      ...     ...                  ...                        ...\n",
              "981751  10000    48386       5  The First World War                     1998.0\n",
              "981752  10000    49007       4  The First World War                     1998.0\n",
              "981753  10000    49383       5  The First World War                     1998.0\n",
              "981754  10000    50124       5  The First World War                     1998.0\n",
              "981755  10000    51328       1  The First World War                     1998.0\n",
              "\n",
              "[981756 rows x 5 columns]"
            ],
            "text/html": [
              "\n",
              "  <div id=\"df-79796cdf-1acc-4321-808d-effe18a30433\" class=\"colab-df-container\">\n",
              "    <div>\n",
              "<style scoped>\n",
              "    .dataframe tbody tr th:only-of-type {\n",
              "        vertical-align: middle;\n",
              "    }\n",
              "\n",
              "    .dataframe tbody tr th {\n",
              "        vertical-align: top;\n",
              "    }\n",
              "\n",
              "    .dataframe thead th {\n",
              "        text-align: right;\n",
              "    }\n",
              "</style>\n",
              "<table border=\"1\" class=\"dataframe\">\n",
              "  <thead>\n",
              "    <tr style=\"text-align: right;\">\n",
              "      <th></th>\n",
              "      <th>user</th>\n",
              "      <th>user_id</th>\n",
              "      <th>rating</th>\n",
              "      <th>title</th>\n",
              "      <th>original_publication_year</th>\n",
              "    </tr>\n",
              "  </thead>\n",
              "  <tbody>\n",
              "    <tr>\n",
              "      <th>0</th>\n",
              "      <td>1</td>\n",
              "      <td>314</td>\n",
              "      <td>5</td>\n",
              "      <td>The Hunger Games</td>\n",
              "      <td>2008.0</td>\n",
              "    </tr>\n",
              "    <tr>\n",
              "      <th>1</th>\n",
              "      <td>1</td>\n",
              "      <td>439</td>\n",
              "      <td>3</td>\n",
              "      <td>The Hunger Games</td>\n",
              "      <td>2008.0</td>\n",
              "    </tr>\n",
              "    <tr>\n",
              "      <th>2</th>\n",
              "      <td>1</td>\n",
              "      <td>588</td>\n",
              "      <td>5</td>\n",
              "      <td>The Hunger Games</td>\n",
              "      <td>2008.0</td>\n",
              "    </tr>\n",
              "    <tr>\n",
              "      <th>3</th>\n",
              "      <td>1</td>\n",
              "      <td>1169</td>\n",
              "      <td>4</td>\n",
              "      <td>The Hunger Games</td>\n",
              "      <td>2008.0</td>\n",
              "    </tr>\n",
              "    <tr>\n",
              "      <th>4</th>\n",
              "      <td>1</td>\n",
              "      <td>1185</td>\n",
              "      <td>4</td>\n",
              "      <td>The Hunger Games</td>\n",
              "      <td>2008.0</td>\n",
              "    </tr>\n",
              "    <tr>\n",
              "      <th>...</th>\n",
              "      <td>...</td>\n",
              "      <td>...</td>\n",
              "      <td>...</td>\n",
              "      <td>...</td>\n",
              "      <td>...</td>\n",
              "    </tr>\n",
              "    <tr>\n",
              "      <th>981751</th>\n",
              "      <td>10000</td>\n",
              "      <td>48386</td>\n",
              "      <td>5</td>\n",
              "      <td>The First World War</td>\n",
              "      <td>1998.0</td>\n",
              "    </tr>\n",
              "    <tr>\n",
              "      <th>981752</th>\n",
              "      <td>10000</td>\n",
              "      <td>49007</td>\n",
              "      <td>4</td>\n",
              "      <td>The First World War</td>\n",
              "      <td>1998.0</td>\n",
              "    </tr>\n",
              "    <tr>\n",
              "      <th>981753</th>\n",
              "      <td>10000</td>\n",
              "      <td>49383</td>\n",
              "      <td>5</td>\n",
              "      <td>The First World War</td>\n",
              "      <td>1998.0</td>\n",
              "    </tr>\n",
              "    <tr>\n",
              "      <th>981754</th>\n",
              "      <td>10000</td>\n",
              "      <td>50124</td>\n",
              "      <td>5</td>\n",
              "      <td>The First World War</td>\n",
              "      <td>1998.0</td>\n",
              "    </tr>\n",
              "    <tr>\n",
              "      <th>981755</th>\n",
              "      <td>10000</td>\n",
              "      <td>51328</td>\n",
              "      <td>1</td>\n",
              "      <td>The First World War</td>\n",
              "      <td>1998.0</td>\n",
              "    </tr>\n",
              "  </tbody>\n",
              "</table>\n",
              "<p>981756 rows × 5 columns</p>\n",
              "</div>\n",
              "    <div class=\"colab-df-buttons\">\n",
              "\n",
              "  <div class=\"colab-df-container\">\n",
              "    <button class=\"colab-df-convert\" onclick=\"convertToInteractive('df-79796cdf-1acc-4321-808d-effe18a30433')\"\n",
              "            title=\"Convert this dataframe to an interactive table.\"\n",
              "            style=\"display:none;\">\n",
              "\n",
              "  <svg xmlns=\"http://www.w3.org/2000/svg\" height=\"24px\" viewBox=\"0 -960 960 960\">\n",
              "    <path d=\"M120-120v-720h720v720H120Zm60-500h600v-160H180v160Zm220 220h160v-160H400v160Zm0 220h160v-160H400v160ZM180-400h160v-160H180v160Zm440 0h160v-160H620v160ZM180-180h160v-160H180v160Zm440 0h160v-160H620v160Z\"/>\n",
              "  </svg>\n",
              "    </button>\n",
              "\n",
              "  <style>\n",
              "    .colab-df-container {\n",
              "      display:flex;\n",
              "      gap: 12px;\n",
              "    }\n",
              "\n",
              "    .colab-df-convert {\n",
              "      background-color: #E8F0FE;\n",
              "      border: none;\n",
              "      border-radius: 50%;\n",
              "      cursor: pointer;\n",
              "      display: none;\n",
              "      fill: #1967D2;\n",
              "      height: 32px;\n",
              "      padding: 0 0 0 0;\n",
              "      width: 32px;\n",
              "    }\n",
              "\n",
              "    .colab-df-convert:hover {\n",
              "      background-color: #E2EBFA;\n",
              "      box-shadow: 0px 1px 2px rgba(60, 64, 67, 0.3), 0px 1px 3px 1px rgba(60, 64, 67, 0.15);\n",
              "      fill: #174EA6;\n",
              "    }\n",
              "\n",
              "    .colab-df-buttons div {\n",
              "      margin-bottom: 4px;\n",
              "    }\n",
              "\n",
              "    [theme=dark] .colab-df-convert {\n",
              "      background-color: #3B4455;\n",
              "      fill: #D2E3FC;\n",
              "    }\n",
              "\n",
              "    [theme=dark] .colab-df-convert:hover {\n",
              "      background-color: #434B5C;\n",
              "      box-shadow: 0px 1px 3px 1px rgba(0, 0, 0, 0.15);\n",
              "      filter: drop-shadow(0px 1px 2px rgba(0, 0, 0, 0.3));\n",
              "      fill: #FFFFFF;\n",
              "    }\n",
              "  </style>\n",
              "\n",
              "    <script>\n",
              "      const buttonEl =\n",
              "        document.querySelector('#df-79796cdf-1acc-4321-808d-effe18a30433 button.colab-df-convert');\n",
              "      buttonEl.style.display =\n",
              "        google.colab.kernel.accessAllowed ? 'block' : 'none';\n",
              "\n",
              "      async function convertToInteractive(key) {\n",
              "        const element = document.querySelector('#df-79796cdf-1acc-4321-808d-effe18a30433');\n",
              "        const dataTable =\n",
              "          await google.colab.kernel.invokeFunction('convertToInteractive',\n",
              "                                                    [key], {});\n",
              "        if (!dataTable) return;\n",
              "\n",
              "        const docLinkHtml = 'Like what you see? Visit the ' +\n",
              "          '<a target=\"_blank\" href=https://colab.research.google.com/notebooks/data_table.ipynb>data table notebook</a>'\n",
              "          + ' to learn more about interactive tables.';\n",
              "        element.innerHTML = '';\n",
              "        dataTable['output_type'] = 'display_data';\n",
              "        await google.colab.output.renderOutput(dataTable, element);\n",
              "        const docLink = document.createElement('div');\n",
              "        docLink.innerHTML = docLinkHtml;\n",
              "        element.appendChild(docLink);\n",
              "      }\n",
              "    </script>\n",
              "  </div>\n",
              "\n",
              "\n",
              "<div id=\"df-290f63e1-943c-4709-a8db-ca55ed96b8a0\">\n",
              "  <button class=\"colab-df-quickchart\" onclick=\"quickchart('df-290f63e1-943c-4709-a8db-ca55ed96b8a0')\"\n",
              "            title=\"Suggest charts\"\n",
              "            style=\"display:none;\">\n",
              "\n",
              "<svg xmlns=\"http://www.w3.org/2000/svg\" height=\"24px\"viewBox=\"0 0 24 24\"\n",
              "     width=\"24px\">\n",
              "    <g>\n",
              "        <path d=\"M19 3H5c-1.1 0-2 .9-2 2v14c0 1.1.9 2 2 2h14c1.1 0 2-.9 2-2V5c0-1.1-.9-2-2-2zM9 17H7v-7h2v7zm4 0h-2V7h2v10zm4 0h-2v-4h2v4z\"/>\n",
              "    </g>\n",
              "</svg>\n",
              "  </button>\n",
              "\n",
              "<style>\n",
              "  .colab-df-quickchart {\n",
              "      --bg-color: #E8F0FE;\n",
              "      --fill-color: #1967D2;\n",
              "      --hover-bg-color: #E2EBFA;\n",
              "      --hover-fill-color: #174EA6;\n",
              "      --disabled-fill-color: #AAA;\n",
              "      --disabled-bg-color: #DDD;\n",
              "  }\n",
              "\n",
              "  [theme=dark] .colab-df-quickchart {\n",
              "      --bg-color: #3B4455;\n",
              "      --fill-color: #D2E3FC;\n",
              "      --hover-bg-color: #434B5C;\n",
              "      --hover-fill-color: #FFFFFF;\n",
              "      --disabled-bg-color: #3B4455;\n",
              "      --disabled-fill-color: #666;\n",
              "  }\n",
              "\n",
              "  .colab-df-quickchart {\n",
              "    background-color: var(--bg-color);\n",
              "    border: none;\n",
              "    border-radius: 50%;\n",
              "    cursor: pointer;\n",
              "    display: none;\n",
              "    fill: var(--fill-color);\n",
              "    height: 32px;\n",
              "    padding: 0;\n",
              "    width: 32px;\n",
              "  }\n",
              "\n",
              "  .colab-df-quickchart:hover {\n",
              "    background-color: var(--hover-bg-color);\n",
              "    box-shadow: 0 1px 2px rgba(60, 64, 67, 0.3), 0 1px 3px 1px rgba(60, 64, 67, 0.15);\n",
              "    fill: var(--button-hover-fill-color);\n",
              "  }\n",
              "\n",
              "  .colab-df-quickchart-complete:disabled,\n",
              "  .colab-df-quickchart-complete:disabled:hover {\n",
              "    background-color: var(--disabled-bg-color);\n",
              "    fill: var(--disabled-fill-color);\n",
              "    box-shadow: none;\n",
              "  }\n",
              "\n",
              "  .colab-df-spinner {\n",
              "    border: 2px solid var(--fill-color);\n",
              "    border-color: transparent;\n",
              "    border-bottom-color: var(--fill-color);\n",
              "    animation:\n",
              "      spin 1s steps(1) infinite;\n",
              "  }\n",
              "\n",
              "  @keyframes spin {\n",
              "    0% {\n",
              "      border-color: transparent;\n",
              "      border-bottom-color: var(--fill-color);\n",
              "      border-left-color: var(--fill-color);\n",
              "    }\n",
              "    20% {\n",
              "      border-color: transparent;\n",
              "      border-left-color: var(--fill-color);\n",
              "      border-top-color: var(--fill-color);\n",
              "    }\n",
              "    30% {\n",
              "      border-color: transparent;\n",
              "      border-left-color: var(--fill-color);\n",
              "      border-top-color: var(--fill-color);\n",
              "      border-right-color: var(--fill-color);\n",
              "    }\n",
              "    40% {\n",
              "      border-color: transparent;\n",
              "      border-right-color: var(--fill-color);\n",
              "      border-top-color: var(--fill-color);\n",
              "    }\n",
              "    60% {\n",
              "      border-color: transparent;\n",
              "      border-right-color: var(--fill-color);\n",
              "    }\n",
              "    80% {\n",
              "      border-color: transparent;\n",
              "      border-right-color: var(--fill-color);\n",
              "      border-bottom-color: var(--fill-color);\n",
              "    }\n",
              "    90% {\n",
              "      border-color: transparent;\n",
              "      border-bottom-color: var(--fill-color);\n",
              "    }\n",
              "  }\n",
              "</style>\n",
              "\n",
              "  <script>\n",
              "    async function quickchart(key) {\n",
              "      const quickchartButtonEl =\n",
              "        document.querySelector('#' + key + ' button');\n",
              "      quickchartButtonEl.disabled = true;  // To prevent multiple clicks.\n",
              "      quickchartButtonEl.classList.add('colab-df-spinner');\n",
              "      try {\n",
              "        const charts = await google.colab.kernel.invokeFunction(\n",
              "            'suggestCharts', [key], {});\n",
              "      } catch (error) {\n",
              "        console.error('Error during call to suggestCharts:', error);\n",
              "      }\n",
              "      quickchartButtonEl.classList.remove('colab-df-spinner');\n",
              "      quickchartButtonEl.classList.add('colab-df-quickchart-complete');\n",
              "    }\n",
              "    (() => {\n",
              "      let quickchartButtonEl =\n",
              "        document.querySelector('#df-290f63e1-943c-4709-a8db-ca55ed96b8a0 button');\n",
              "      quickchartButtonEl.style.display =\n",
              "        google.colab.kernel.accessAllowed ? 'block' : 'none';\n",
              "    })();\n",
              "  </script>\n",
              "</div>\n",
              "\n",
              "  <div id=\"id_2641eda5-cfcf-40c5-885e-b9dc25d2e132\">\n",
              "    <style>\n",
              "      .colab-df-generate {\n",
              "        background-color: #E8F0FE;\n",
              "        border: none;\n",
              "        border-radius: 50%;\n",
              "        cursor: pointer;\n",
              "        display: none;\n",
              "        fill: #1967D2;\n",
              "        height: 32px;\n",
              "        padding: 0 0 0 0;\n",
              "        width: 32px;\n",
              "      }\n",
              "\n",
              "      .colab-df-generate:hover {\n",
              "        background-color: #E2EBFA;\n",
              "        box-shadow: 0px 1px 2px rgba(60, 64, 67, 0.3), 0px 1px 3px 1px rgba(60, 64, 67, 0.15);\n",
              "        fill: #174EA6;\n",
              "      }\n",
              "\n",
              "      [theme=dark] .colab-df-generate {\n",
              "        background-color: #3B4455;\n",
              "        fill: #D2E3FC;\n",
              "      }\n",
              "\n",
              "      [theme=dark] .colab-df-generate:hover {\n",
              "        background-color: #434B5C;\n",
              "        box-shadow: 0px 1px 3px 1px rgba(0, 0, 0, 0.15);\n",
              "        filter: drop-shadow(0px 1px 2px rgba(0, 0, 0, 0.3));\n",
              "        fill: #FFFFFF;\n",
              "      }\n",
              "    </style>\n",
              "    <button class=\"colab-df-generate\" onclick=\"generateWithVariable('new_ratings')\"\n",
              "            title=\"Generate code using this dataframe.\"\n",
              "            style=\"display:none;\">\n",
              "\n",
              "  <svg xmlns=\"http://www.w3.org/2000/svg\" height=\"24px\"viewBox=\"0 0 24 24\"\n",
              "       width=\"24px\">\n",
              "    <path d=\"M7,19H8.4L18.45,9,17,7.55,7,17.6ZM5,21V16.75L18.45,3.32a2,2,0,0,1,2.83,0l1.4,1.43a1.91,1.91,0,0,1,.58,1.4,1.91,1.91,0,0,1-.58,1.4L9.25,21ZM18.45,9,17,7.55Zm-12,3A5.31,5.31,0,0,0,4.9,8.1,5.31,5.31,0,0,0,1,6.5,5.31,5.31,0,0,0,4.9,4.9,5.31,5.31,0,0,0,6.5,1,5.31,5.31,0,0,0,8.1,4.9,5.31,5.31,0,0,0,12,6.5,5.46,5.46,0,0,0,6.5,12Z\"/>\n",
              "  </svg>\n",
              "    </button>\n",
              "    <script>\n",
              "      (() => {\n",
              "      const buttonEl =\n",
              "        document.querySelector('#id_2641eda5-cfcf-40c5-885e-b9dc25d2e132 button.colab-df-generate');\n",
              "      buttonEl.style.display =\n",
              "        google.colab.kernel.accessAllowed ? 'block' : 'none';\n",
              "\n",
              "      buttonEl.onclick = () => {\n",
              "        google.colab.notebook.generateWithVariable('new_ratings');\n",
              "      }\n",
              "      })();\n",
              "    </script>\n",
              "  </div>\n",
              "\n",
              "    </div>\n",
              "  </div>\n"
            ],
            "application/vnd.google.colaboratory.intrinsic+json": {
              "type": "dataframe",
              "variable_name": "new_ratings"
            }
          },
          "metadata": {},
          "execution_count": 24
        }
      ]
    },
    {
      "cell_type": "markdown",
      "source": [
        "(b) Use a `TabularDataLoaders`, rather than a `CollabDataLoaders`, to load in the data. Make sure your titles and usernames are categorical!"
      ],
      "metadata": {
        "id": "KlfaGWuDYVwb"
      }
    },
    {
      "cell_type": "code",
      "source": [
        "dataset = TabularPandas(new_ratings,\n",
        "            procs=[Categorify,FillMissing,Normalize],\n",
        "            cat_names = ['title', 'user'],\n",
        "            cont_names = ['original_publication_year'],\n",
        "            y_names='rating',\n",
        "            splits=RandomSplitter()(range_of(new_ratings)))\n",
        "dls = dataset.dataloaders(bs=10000)"
      ],
      "metadata": {
        "id": "Ap2s3eGdWvW0",
        "colab": {
          "base_uri": "https://localhost:8080/"
        },
        "outputId": "16574cd5-4973-4dc5-a9cf-27804ea363fa"
      },
      "execution_count": 25,
      "outputs": [
        {
          "output_type": "stream",
          "name": "stderr",
          "text": [
            "/usr/local/lib/python3.10/dist-packages/fastai/tabular/core.py:314: FutureWarning: A value is trying to be set on a copy of a DataFrame or Series through chained assignment using an inplace method.\n",
            "The behavior will change in pandas 3.0. This inplace method will never work because the intermediate object on which we are setting values always behaves as a copy.\n",
            "\n",
            "For example, when doing 'df[col].method(value, inplace=True)', try using 'df.method({col: value}, inplace=True)' or df[col] = df[col].method(value) instead, to perform the operation inplace on the original object.\n",
            "\n",
            "\n",
            "  to[n].fillna(self.na_dict[n], inplace=True)\n"
          ]
        }
      ]
    },
    {
      "cell_type": "markdown",
      "source": [
        "Once you've successfully loaded them in, use your TabularDataLoaders' `one_batch()` method to see what format your data will be passed to your model. You should see a tuple of three tensors: one with the categorical data (one column of ID numbers for the user, one of ID numbers for the title, in order based on how you loaded the data), one with the continuous variables, and one with the target values (the ratings)."
      ],
      "metadata": {
        "id": "xm31MJ7xYjwx"
      }
    },
    {
      "cell_type": "code",
      "source": [
        "dls.one_batch()"
      ],
      "metadata": {
        "id": "T4PZJ4dwWvqi",
        "colab": {
          "base_uri": "https://localhost:8080/"
        },
        "outputId": "774f89ab-da6b-4009-f06e-20620f0faecf"
      },
      "execution_count": 26,
      "outputs": [
        {
          "output_type": "execute_result",
          "data": {
            "text/plain": [
              "(tensor([[7570, 3033,    1],\n",
              "         [1829, 2288,    1],\n",
              "         [3617,  957,    1],\n",
              "         ...,\n",
              "         [6797,    1,    1],\n",
              "         [2593, 2098,    1],\n",
              "         [ 785, 4951,    1]]),\n",
              " tensor([[-0.0170],\n",
              "         [ 0.1252],\n",
              "         [ 0.1834],\n",
              "         ...,\n",
              "         [ 0.1705],\n",
              "         [-0.1075],\n",
              "         [ 0.1511]]),\n",
              " tensor([[5],\n",
              "         [4],\n",
              "         [2],\n",
              "         ...,\n",
              "         [4],\n",
              "         [4],\n",
              "         [4]], dtype=torch.int8))"
            ]
          },
          "metadata": {},
          "execution_count": 26
        }
      ]
    },
    {
      "cell_type": "markdown",
      "source": [
        "(c) Now it's time to modify the model itself. Here's our neural network model from class. You'll need to modify two things:\n",
        "* In the `__init__()` function, you need to be able to take in additional continuous variables, that is, however many you're using in parts a and b, above.\n",
        "* In the forward function, you will be passed *three* arguments. In addition to `self`, there will be an argument for the categorical IDs (in the model below, those are just called `x`), but now there will be an additional argument with the numeric values. Make sure the function takes those in as well, and then actually passes them into the neural network you made."
      ],
      "metadata": {
        "id": "LscREwXIY5qn"
      }
    },
    {
      "cell_type": "code",
      "source": [
        "class RecommenderNN (Module):\n",
        "    def __init__(self, user_sz, item_sz, num_continuous, range=[0.5,5.5], n_act=[200,100]):\n",
        "\n",
        "        self.user_embedding  = Embedding(*user_sz)\n",
        "        self.book_embedding = Embedding(*item_sz)\n",
        "\n",
        "        # What needs to be modelled to take into account the number of continous\n",
        "        # variables in the model?\n",
        "\n",
        "        self.layers = nn.Sequential(\n",
        "            nn.Linear(user_sz[1]+item_sz[1]+num_continuous, n_act[0]),\n",
        "            nn.ReLU(),\n",
        "            nn.Linear(n_act[0], n_act[1]),\n",
        "            nn.ReLU(),\n",
        "            nn.Linear(n_act[1], 1))\n",
        "\n",
        "        self.min = range[0]\n",
        "        self.max = range[1]\n",
        "\n",
        "    def forward(self, x, c): # Add another argument for the continuous inputs, then use them!\n",
        "        users   = self.user_embedding(x[:,0])\n",
        "        books  = self.book_embedding(x[:,1])\n",
        "        embeddings = torch.cat([users, books, c], dim=1)\n",
        "\n",
        "        raw_rating = self.layers(embeddings)\n",
        "\n",
        "        return torch.sigmoid(raw_rating)*(self.max-self.min) + self.min"
      ],
      "metadata": {
        "id": "au0b3CwVXz_-"
      },
      "execution_count": 27,
      "outputs": []
    },
    {
      "cell_type": "code",
      "source": [
        "# Here's some starter code for feeding everything into the model.\n",
        "# The variables names may or may not match what you've got.\n",
        "\n",
        "embs = get_emb_sz(dls)\n",
        "\n",
        "model = RecommenderNN((9275, 267), (10001, 278), 1, [0.5,5.5])\n",
        "learn2 = Learner(dls, model, loss_func=MSELossFlat(), metrics=rmse)\n"
      ],
      "metadata": {
        "id": "pnvoyAS2aHAZ"
      },
      "execution_count": 28,
      "outputs": []
    },
    {
      "cell_type": "code",
      "source": [
        "embs"
      ],
      "metadata": {
        "colab": {
          "base_uri": "https://localhost:8080/"
        },
        "id": "wasE6LBUv437",
        "outputId": "007d084a-ed8e-4805-89ea-ffc18cecdaec"
      },
      "execution_count": 29,
      "outputs": [
        {
          "output_type": "execute_result",
          "data": {
            "text/plain": [
              "[(9275, 267), (10001, 278), (3, 3)]"
            ]
          },
          "metadata": {},
          "execution_count": 29
        }
      ]
    },
    {
      "cell_type": "markdown",
      "source": [
        "(d) Train the model. Do you get an improvement in prediction quality?"
      ],
      "metadata": {
        "id": "X-ko-Z5ZboOf"
      }
    },
    {
      "cell_type": "code",
      "source": [
        "learn2.fit_one_cycle(5, 5e-3, wd=0.1)"
      ],
      "metadata": {
        "id": "GStyK4I-bsA8",
        "colab": {
          "base_uri": "https://localhost:8080/",
          "height": 206
        },
        "outputId": "22b1b3b0-5010-414f-821a-c8c0298ac3fb"
      },
      "execution_count": 30,
      "outputs": [
        {
          "output_type": "display_data",
          "data": {
            "text/plain": [
              "<IPython.core.display.HTML object>"
            ],
            "text/html": [
              "\n",
              "<style>\n",
              "    /* Turns off some styling */\n",
              "    progress {\n",
              "        /* gets rid of default border in Firefox and Opera. */\n",
              "        border: none;\n",
              "        /* Needs to be in here for Safari polyfill so background images work as expected. */\n",
              "        background-size: auto;\n",
              "    }\n",
              "    progress:not([value]), progress:not([value])::-webkit-progress-bar {\n",
              "        background: repeating-linear-gradient(45deg, #7e7e7e, #7e7e7e 10px, #5c5c5c 10px, #5c5c5c 20px);\n",
              "    }\n",
              "    .progress-bar-interrupted, .progress-bar-interrupted::-webkit-progress-bar {\n",
              "        background: #F44336;\n",
              "    }\n",
              "</style>\n"
            ]
          },
          "metadata": {}
        },
        {
          "output_type": "display_data",
          "data": {
            "text/plain": [
              "<IPython.core.display.HTML object>"
            ],
            "text/html": [
              "<table border=\"1\" class=\"dataframe\">\n",
              "  <thead>\n",
              "    <tr style=\"text-align: left;\">\n",
              "      <th>epoch</th>\n",
              "      <th>train_loss</th>\n",
              "      <th>valid_loss</th>\n",
              "      <th>_rmse</th>\n",
              "      <th>time</th>\n",
              "    </tr>\n",
              "  </thead>\n",
              "  <tbody>\n",
              "    <tr>\n",
              "      <td>0</td>\n",
              "      <td>1.054596</td>\n",
              "      <td>0.917376</td>\n",
              "      <td>0.957798</td>\n",
              "      <td>00:02</td>\n",
              "    </tr>\n",
              "    <tr>\n",
              "      <td>1</td>\n",
              "      <td>0.918318</td>\n",
              "      <td>0.913376</td>\n",
              "      <td>0.955707</td>\n",
              "      <td>00:02</td>\n",
              "    </tr>\n",
              "    <tr>\n",
              "      <td>2</td>\n",
              "      <td>0.890852</td>\n",
              "      <td>0.906383</td>\n",
              "      <td>0.952042</td>\n",
              "      <td>00:02</td>\n",
              "    </tr>\n",
              "    <tr>\n",
              "      <td>3</td>\n",
              "      <td>0.884143</td>\n",
              "      <td>0.902671</td>\n",
              "      <td>0.950090</td>\n",
              "      <td>00:02</td>\n",
              "    </tr>\n",
              "    <tr>\n",
              "      <td>4</td>\n",
              "      <td>0.881499</td>\n",
              "      <td>0.901824</td>\n",
              "      <td>0.949644</td>\n",
              "      <td>00:01</td>\n",
              "    </tr>\n",
              "  </tbody>\n",
              "</table>"
            ]
          },
          "metadata": {}
        }
      ]
    },
    {
      "cell_type": "markdown",
      "source": [
        "(e) We did this with a neural network. Could we have done it with the dot product model instead? Why or why not?"
      ],
      "metadata": {
        "id": "-nTBwPlTbsOJ"
      }
    },
    {
      "cell_type": "code",
      "source": [
        "# It could be done but it would take a lot more work than with the neural network\n",
        "# because you would not be able to simply enter in the extra continuous variable."
      ],
      "metadata": {
        "id": "kk_CHLQ6bwEz"
      },
      "execution_count": null,
      "outputs": []
    },
    {
      "cell_type": "markdown",
      "source": [
        "## 4. PCA and UMAP: More Embedding Interpretation\n",
        "\n",
        "Here's two (hopefully) useful articles to read. Seriously, read them. My explanations below are insufficient and more for me to learn how to write about them than actually useful.\n",
        "* [Understanding PCA](https://setosa.io/ev/principal-component-analysis/)\n",
        "* [Understanding UMAP](https://pair-code.github.io/understanding-umap/)\n",
        "\n",
        "**Principal Component Analysis (PCA)** takes a matrix (like the weights in our model) and finds the best-fit line going through it (which will end up being a combination of each of the dimensions in the data). This is the principal component. The line won't be a perfect fit; so after removing it, another line is found, which is the 2nd principal component. This can be repeated $N$ times, where $N$ is the number of dimensions the data exist in (in our case, the number of latent factors in the embedding, not the number of unique items). In practice, usually just the first two components are used, so they can be graphed.\n",
        "\n",
        "**Uniform Manifold Approximation and Projection (UMAP)** tries to maintain clusters and distances between clusters. It operates not on the weights directly, like PCA does, but finds all pairwise distances between entries, which forms a matrix of distances between items like this:\n",
        "\n",
        "| |item 1|item 2|item 3|\n",
        "|:-:|:-:|:-:|:-:|\n",
        "|item 1|0|1.2|4.2|\n",
        "|item 2|1.2|0|2.0|\n",
        "|item 3|3.2|2.0|0|\n",
        "\n",
        "It then attempts to find a two-dimensional projection that best maintains that distance matrix.\n",
        "\n",
        "___"
      ],
      "metadata": {
        "id": "vkTbMJ6bBJbI"
      }
    },
    {
      "cell_type": "markdown",
      "source": [
        "(a) Below is code I've more or less copied from the textbook, with some reworking. I've also added comments.\n",
        "\n",
        "What the code does is cut the dataset down to the 1000 items with the most ratings and perform PCA on them. It then actually visualizes the positions of the items with the 50 most ratings, along with labels.\n",
        "\n",
        "Make the code work so you get your own PCA visualization."
      ],
      "metadata": {
        "id": "LtpHZjJ6ttXZ"
      }
    },
    {
      "cell_type": "code",
      "source": [
        "# Get a list of the 1000 most-rated items in the dataset\n",
        "# This means that these items should have the best-established embeddings\n",
        "most_rated = ratings.groupby('title')['rating'].count()\n",
        "most_rated = most_rated.sort_values(ascending=False).index.values[:1000]\n",
        "most_rated[0:10]"
      ],
      "metadata": {
        "id": "qeO63ysgrwhM",
        "colab": {
          "base_uri": "https://localhost:8080/"
        },
        "outputId": "fe8dfb12-dec2-4b74-ac91-f78740aba4c2"
      },
      "execution_count": null,
      "outputs": [
        {
          "output_type": "execute_result",
          "data": {
            "text/plain": [
              "array(['The Gift', ' ', 'Twilight', 'Perfect', 'Selected Poems',\n",
              "       'Heartless', 'The Awakening', 'Gone', 'Defiance', 'Twisted'],\n",
              "      dtype=object)"
            ]
          },
          "metadata": {},
          "execution_count": 32
        }
      ]
    },
    {
      "cell_type": "code",
      "source": [
        "# Get the indices for the most-rated items\n",
        "top_idxs = tensor([learn.dls.classes['title'].o2i[mr] for mr in most_rated])\n",
        "# Extract the weights for those iems\n",
        "weights = learn.model.i_weight.weight[top_idxs].cpu().detach()\n",
        "# Perform PCA to get the 3 most informative dimensions\n",
        "rating_pca = weights.pca(3)"
      ],
      "metadata": {
        "id": "Lkmf-Po2BMw-",
        "colab": {
          "base_uri": "https://localhost:8080/",
          "height": 341
        },
        "outputId": "39295f3b-7805-4e50-9e4a-8eed41ff199f"
      },
      "execution_count": null,
      "outputs": [
        {
          "output_type": "error",
          "ename": "AttributeError",
          "evalue": "'RecommenderNN' object has no attribute 'i_weight'",
          "traceback": [
            "\u001b[0;31m---------------------------------------------------------------------------\u001b[0m",
            "\u001b[0;31mAttributeError\u001b[0m                            Traceback (most recent call last)",
            "\u001b[0;32m<ipython-input-33-edda5106cc3d>\u001b[0m in \u001b[0;36m<cell line: 4>\u001b[0;34m()\u001b[0m\n\u001b[1;32m      2\u001b[0m \u001b[0mtop_idxs\u001b[0m \u001b[0;34m=\u001b[0m \u001b[0mtensor\u001b[0m\u001b[0;34m(\u001b[0m\u001b[0;34m[\u001b[0m\u001b[0mlearn\u001b[0m\u001b[0;34m.\u001b[0m\u001b[0mdls\u001b[0m\u001b[0;34m.\u001b[0m\u001b[0mclasses\u001b[0m\u001b[0;34m[\u001b[0m\u001b[0;34m'title'\u001b[0m\u001b[0;34m]\u001b[0m\u001b[0;34m.\u001b[0m\u001b[0mo2i\u001b[0m\u001b[0;34m[\u001b[0m\u001b[0mmr\u001b[0m\u001b[0;34m]\u001b[0m \u001b[0;32mfor\u001b[0m \u001b[0mmr\u001b[0m \u001b[0;32min\u001b[0m \u001b[0mmost_rated\u001b[0m\u001b[0;34m]\u001b[0m\u001b[0;34m)\u001b[0m\u001b[0;34m\u001b[0m\u001b[0;34m\u001b[0m\u001b[0m\n\u001b[1;32m      3\u001b[0m \u001b[0;31m# Extract the weights for those iems\u001b[0m\u001b[0;34m\u001b[0m\u001b[0;34m\u001b[0m\u001b[0m\n\u001b[0;32m----> 4\u001b[0;31m \u001b[0mweights\u001b[0m \u001b[0;34m=\u001b[0m \u001b[0mlearn\u001b[0m\u001b[0;34m.\u001b[0m\u001b[0mmodel\u001b[0m\u001b[0;34m.\u001b[0m\u001b[0mi_weight\u001b[0m\u001b[0;34m.\u001b[0m\u001b[0mweight\u001b[0m\u001b[0;34m[\u001b[0m\u001b[0mtop_idxs\u001b[0m\u001b[0;34m]\u001b[0m\u001b[0;34m.\u001b[0m\u001b[0mcpu\u001b[0m\u001b[0;34m(\u001b[0m\u001b[0;34m)\u001b[0m\u001b[0;34m.\u001b[0m\u001b[0mdetach\u001b[0m\u001b[0;34m(\u001b[0m\u001b[0;34m)\u001b[0m\u001b[0;34m\u001b[0m\u001b[0;34m\u001b[0m\u001b[0m\n\u001b[0m\u001b[1;32m      5\u001b[0m \u001b[0;31m# Perform PCA to get the 3 most informative dimensions\u001b[0m\u001b[0;34m\u001b[0m\u001b[0;34m\u001b[0m\u001b[0m\n\u001b[1;32m      6\u001b[0m \u001b[0mrating_pca\u001b[0m \u001b[0;34m=\u001b[0m \u001b[0mweights\u001b[0m\u001b[0;34m.\u001b[0m\u001b[0mpca\u001b[0m\u001b[0;34m(\u001b[0m\u001b[0;36m3\u001b[0m\u001b[0;34m)\u001b[0m\u001b[0;34m\u001b[0m\u001b[0;34m\u001b[0m\u001b[0m\n",
            "\u001b[0;32m/usr/local/lib/python3.10/dist-packages/torch/nn/modules/module.py\u001b[0m in \u001b[0;36m__getattr__\u001b[0;34m(self, name)\u001b[0m\n\u001b[1;32m   1929\u001b[0m             \u001b[0;32mif\u001b[0m \u001b[0mname\u001b[0m \u001b[0;32min\u001b[0m \u001b[0mmodules\u001b[0m\u001b[0;34m:\u001b[0m\u001b[0;34m\u001b[0m\u001b[0;34m\u001b[0m\u001b[0m\n\u001b[1;32m   1930\u001b[0m                 \u001b[0;32mreturn\u001b[0m \u001b[0mmodules\u001b[0m\u001b[0;34m[\u001b[0m\u001b[0mname\u001b[0m\u001b[0;34m]\u001b[0m\u001b[0;34m\u001b[0m\u001b[0;34m\u001b[0m\u001b[0m\n\u001b[0;32m-> 1931\u001b[0;31m         raise AttributeError(\n\u001b[0m\u001b[1;32m   1932\u001b[0m             \u001b[0;34mf\"'{type(self).__name__}' object has no attribute '{name}'\"\u001b[0m\u001b[0;34m\u001b[0m\u001b[0;34m\u001b[0m\u001b[0m\n\u001b[1;32m   1933\u001b[0m         )\n",
            "\u001b[0;31mAttributeError\u001b[0m: 'RecommenderNN' object has no attribute 'i_weight'"
          ]
        }
      ]
    },
    {
      "cell_type": "code",
      "source": [
        "fac0,fac1,fac2 = rating_pca.t()\n",
        "top50 = list(range(50))\n",
        "\n",
        "# Extract the arbitrary X and Y axes using factor 0 and 1 from the PCA\n",
        "X = fac0[top50]\n",
        "Y = fac1[top50]\n",
        "plt.figure(figsize=(8,8))\n",
        "plt.scatter(X, Y)\n",
        "for i, x, y in zip(top_movies[top50], X, Y):\n",
        "    plt.text(x,y,i, color=np.random.rand(3)*0.7, fontsize=11)\n",
        "plt.show()"
      ],
      "metadata": {
        "id": "xAjrJQMMs9hq"
      },
      "execution_count": null,
      "outputs": []
    },
    {
      "cell_type": "markdown",
      "source": [
        "(b) Describe the *regions* in your plot, in the context of your dataset. You should be talking about the left/right, top/bottom, or topleft/bottomright &c. distinctions, not talking about specific clusterings. Point out a few examples to illustrate this.\n",
        "\n",
        "If you check the textbook, it mentions that PCA on movie data seems to find a split between movies which are popular/unpopular amongst viewers (and made a lot of money) on one axis, and ones which are critically acclaimed or panned on another."
      ],
      "metadata": {
        "id": "5T_cX9Zpkp7n"
      }
    },
    {
      "cell_type": "code",
      "source": [],
      "metadata": {
        "id": "RpxWtzq1kqym"
      },
      "execution_count": null,
      "outputs": []
    },
    {
      "cell_type": "markdown",
      "source": [
        "(c) Install and use the [UMAP](https://umap-learn.readthedocs.io/en/latest/) library, and repeat part b of this question. Luckily, UMAP uses essentially the same syntax as Scikit-Learn, which is what was used for PCA."
      ],
      "metadata": {
        "id": "J4radJ_nun9b"
      }
    },
    {
      "cell_type": "code",
      "source": [],
      "metadata": {
        "id": "cj5mDrv0u3qR"
      },
      "execution_count": null,
      "outputs": []
    },
    {
      "cell_type": "markdown",
      "source": [
        "(d) UMAP preserves groupings and distances between groups, more or less. Repeat part b of this question, describing the clusters you find."
      ],
      "metadata": {
        "id": "fzQgxamYu36W"
      }
    },
    {
      "cell_type": "code",
      "source": [],
      "metadata": {
        "id": "QSBTpsuZvAxr"
      },
      "execution_count": null,
      "outputs": []
    }
  ]
}