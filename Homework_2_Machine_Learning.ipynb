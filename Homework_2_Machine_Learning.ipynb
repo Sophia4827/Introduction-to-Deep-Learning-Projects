{
  "nbformat": 4,
  "nbformat_minor": 0,
  "metadata": {
    "colab": {
      "provenance": []
    },
    "kernelspec": {
      "name": "python3",
      "display_name": "Python 3"
    },
    "language_info": {
      "name": "python"
    }
  },
  "cells": [
    {
      "cell_type": "markdown",
      "source": [
        "# Homework: Machine Learning\n",
        "\n",
        "This notebook is a graded homework that you will turn in.\n",
        "\n",
        "You *may*:\n",
        "* Ask questions of and work with other students in this course. You must each write up your own solutions.\n",
        "* Ask questions of the instructor. Your instructor is generous with hints and guidance.\n",
        "* Use the [Python Documentation](https://docs.python.org/3.11/), especially the [tutorial section](https://docs.python.org/3/tutorial/index.html).\n",
        "* Use the PyTorch and fast.ai documentation.\n",
        "* Use the [W3Schools](https://www.w3schools.com/python/) and [Python For Everbody](https://www.py4e.com/) tutorials/reference guides.\n",
        "\n",
        "You *may not*:\n",
        "* Discuss this with any other students, faculty, your friends, your family, &c. before it is submitted.\n",
        "* Use Stack Overflow, Google, ChatGPT or other unspecified resources.\n"
      ],
      "metadata": {
        "id": "7cQGfIhTnB2W"
      }
    },
    {
      "cell_type": "markdown",
      "source": [
        "## Problems in this Notebook\n",
        "\n",
        "1. Learning Rate Finder\n",
        "2. Overfitting\n",
        "3. Overfitting + L2 Regularization\n"
      ],
      "metadata": {
        "id": "QmW-1vgFnHKc"
      }
    },
    {
      "cell_type": "code",
      "source": [
        "from fastai.basics import *\n",
        "import torch\n",
        "import pandas as pd\n",
        "import numpy as np"
      ],
      "metadata": {
        "id": "OiYzN8mwmxnO"
      },
      "execution_count": 2,
      "outputs": []
    },
    {
      "cell_type": "markdown",
      "source": [
        "# 0 Dataset\n",
        "\n",
        "For this notebook, we'll be using the following dataset, which I randomly generated. We'll use a general high-degree polynomial as the function to fit:\n",
        "\n",
        "$P_9(x) = w_0 + w_1 x + w_2 x^2 + w_3 x^3 + \\cdots + w_9 x^9$\n",
        "\n",
        "Define the function below. `w` is a tensor with length 10 (with entries `w[0]` through `w[9]`)."
      ],
      "metadata": {
        "id": "1M_gjBlQ2z4p"
      }
    },
    {
      "cell_type": "code",
      "source": [
        "def P9(x, w):\n",
        "    # Complete the function\n",
        "    return w[0] + w[1]*x + w[2]*x.pow(2) + w[3]*x.pow(3) + w[4]*x.pow(4) + w[5]*x.pow(5) + w[6]*x.pow(6) + w[7]*x.pow(7) + w[8]*x.pow(8) + w[9]*x.pow(9)"
      ],
      "metadata": {
        "id": "1rEQUcY1ilq_"
      },
      "execution_count": 3,
      "outputs": []
    },
    {
      "cell_type": "code",
      "execution_count": 4,
      "metadata": {
        "id": "tox8PapCepum",
        "outputId": "9f405fae-263e-4617-e9fa-fa44c39a33a2",
        "colab": {
          "base_uri": "https://localhost:8080/",
          "height": 638
        }
      },
      "outputs": [
        {
          "output_type": "execute_result",
          "data": {
            "text/plain": [
              "     x          y\n",
              "0 -0.5 -41.411019\n",
              "1  0.3  -4.893795\n",
              "2  0.2 -23.429233\n",
              "3  0.7  15.147770\n",
              "4 -0.1  -1.528786"
            ],
            "text/html": [
              "\n",
              "  <div id=\"df-a0c585b6-56c4-4097-803f-c77d6bba228b\" class=\"colab-df-container\">\n",
              "    <div>\n",
              "<style scoped>\n",
              "    .dataframe tbody tr th:only-of-type {\n",
              "        vertical-align: middle;\n",
              "    }\n",
              "\n",
              "    .dataframe tbody tr th {\n",
              "        vertical-align: top;\n",
              "    }\n",
              "\n",
              "    .dataframe thead th {\n",
              "        text-align: right;\n",
              "    }\n",
              "</style>\n",
              "<table border=\"1\" class=\"dataframe\">\n",
              "  <thead>\n",
              "    <tr style=\"text-align: right;\">\n",
              "      <th></th>\n",
              "      <th>x</th>\n",
              "      <th>y</th>\n",
              "    </tr>\n",
              "  </thead>\n",
              "  <tbody>\n",
              "    <tr>\n",
              "      <th>0</th>\n",
              "      <td>-0.5</td>\n",
              "      <td>-41.411019</td>\n",
              "    </tr>\n",
              "    <tr>\n",
              "      <th>1</th>\n",
              "      <td>0.3</td>\n",
              "      <td>-4.893795</td>\n",
              "    </tr>\n",
              "    <tr>\n",
              "      <th>2</th>\n",
              "      <td>0.2</td>\n",
              "      <td>-23.429233</td>\n",
              "    </tr>\n",
              "    <tr>\n",
              "      <th>3</th>\n",
              "      <td>0.7</td>\n",
              "      <td>15.147770</td>\n",
              "    </tr>\n",
              "    <tr>\n",
              "      <th>4</th>\n",
              "      <td>-0.1</td>\n",
              "      <td>-1.528786</td>\n",
              "    </tr>\n",
              "  </tbody>\n",
              "</table>\n",
              "</div>\n",
              "    <div class=\"colab-df-buttons\">\n",
              "\n",
              "  <div class=\"colab-df-container\">\n",
              "    <button class=\"colab-df-convert\" onclick=\"convertToInteractive('df-a0c585b6-56c4-4097-803f-c77d6bba228b')\"\n",
              "            title=\"Convert this dataframe to an interactive table.\"\n",
              "            style=\"display:none;\">\n",
              "\n",
              "  <svg xmlns=\"http://www.w3.org/2000/svg\" height=\"24px\" viewBox=\"0 -960 960 960\">\n",
              "    <path d=\"M120-120v-720h720v720H120Zm60-500h600v-160H180v160Zm220 220h160v-160H400v160Zm0 220h160v-160H400v160ZM180-400h160v-160H180v160Zm440 0h160v-160H620v160ZM180-180h160v-160H180v160Zm440 0h160v-160H620v160Z\"/>\n",
              "  </svg>\n",
              "    </button>\n",
              "\n",
              "  <style>\n",
              "    .colab-df-container {\n",
              "      display:flex;\n",
              "      gap: 12px;\n",
              "    }\n",
              "\n",
              "    .colab-df-convert {\n",
              "      background-color: #E8F0FE;\n",
              "      border: none;\n",
              "      border-radius: 50%;\n",
              "      cursor: pointer;\n",
              "      display: none;\n",
              "      fill: #1967D2;\n",
              "      height: 32px;\n",
              "      padding: 0 0 0 0;\n",
              "      width: 32px;\n",
              "    }\n",
              "\n",
              "    .colab-df-convert:hover {\n",
              "      background-color: #E2EBFA;\n",
              "      box-shadow: 0px 1px 2px rgba(60, 64, 67, 0.3), 0px 1px 3px 1px rgba(60, 64, 67, 0.15);\n",
              "      fill: #174EA6;\n",
              "    }\n",
              "\n",
              "    .colab-df-buttons div {\n",
              "      margin-bottom: 4px;\n",
              "    }\n",
              "\n",
              "    [theme=dark] .colab-df-convert {\n",
              "      background-color: #3B4455;\n",
              "      fill: #D2E3FC;\n",
              "    }\n",
              "\n",
              "    [theme=dark] .colab-df-convert:hover {\n",
              "      background-color: #434B5C;\n",
              "      box-shadow: 0px 1px 3px 1px rgba(0, 0, 0, 0.15);\n",
              "      filter: drop-shadow(0px 1px 2px rgba(0, 0, 0, 0.3));\n",
              "      fill: #FFFFFF;\n",
              "    }\n",
              "  </style>\n",
              "\n",
              "    <script>\n",
              "      const buttonEl =\n",
              "        document.querySelector('#df-a0c585b6-56c4-4097-803f-c77d6bba228b button.colab-df-convert');\n",
              "      buttonEl.style.display =\n",
              "        google.colab.kernel.accessAllowed ? 'block' : 'none';\n",
              "\n",
              "      async function convertToInteractive(key) {\n",
              "        const element = document.querySelector('#df-a0c585b6-56c4-4097-803f-c77d6bba228b');\n",
              "        const dataTable =\n",
              "          await google.colab.kernel.invokeFunction('convertToInteractive',\n",
              "                                                    [key], {});\n",
              "        if (!dataTable) return;\n",
              "\n",
              "        const docLinkHtml = 'Like what you see? Visit the ' +\n",
              "          '<a target=\"_blank\" href=https://colab.research.google.com/notebooks/data_table.ipynb>data table notebook</a>'\n",
              "          + ' to learn more about interactive tables.';\n",
              "        element.innerHTML = '';\n",
              "        dataTable['output_type'] = 'display_data';\n",
              "        await google.colab.output.renderOutput(dataTable, element);\n",
              "        const docLink = document.createElement('div');\n",
              "        docLink.innerHTML = docLinkHtml;\n",
              "        element.appendChild(docLink);\n",
              "      }\n",
              "    </script>\n",
              "  </div>\n",
              "\n",
              "\n",
              "<div id=\"df-9021ffcd-52cb-4b39-b533-51e6b6daba59\">\n",
              "  <button class=\"colab-df-quickchart\" onclick=\"quickchart('df-9021ffcd-52cb-4b39-b533-51e6b6daba59')\"\n",
              "            title=\"Suggest charts\"\n",
              "            style=\"display:none;\">\n",
              "\n",
              "<svg xmlns=\"http://www.w3.org/2000/svg\" height=\"24px\"viewBox=\"0 0 24 24\"\n",
              "     width=\"24px\">\n",
              "    <g>\n",
              "        <path d=\"M19 3H5c-1.1 0-2 .9-2 2v14c0 1.1.9 2 2 2h14c1.1 0 2-.9 2-2V5c0-1.1-.9-2-2-2zM9 17H7v-7h2v7zm4 0h-2V7h2v10zm4 0h-2v-4h2v4z\"/>\n",
              "    </g>\n",
              "</svg>\n",
              "  </button>\n",
              "\n",
              "<style>\n",
              "  .colab-df-quickchart {\n",
              "      --bg-color: #E8F0FE;\n",
              "      --fill-color: #1967D2;\n",
              "      --hover-bg-color: #E2EBFA;\n",
              "      --hover-fill-color: #174EA6;\n",
              "      --disabled-fill-color: #AAA;\n",
              "      --disabled-bg-color: #DDD;\n",
              "  }\n",
              "\n",
              "  [theme=dark] .colab-df-quickchart {\n",
              "      --bg-color: #3B4455;\n",
              "      --fill-color: #D2E3FC;\n",
              "      --hover-bg-color: #434B5C;\n",
              "      --hover-fill-color: #FFFFFF;\n",
              "      --disabled-bg-color: #3B4455;\n",
              "      --disabled-fill-color: #666;\n",
              "  }\n",
              "\n",
              "  .colab-df-quickchart {\n",
              "    background-color: var(--bg-color);\n",
              "    border: none;\n",
              "    border-radius: 50%;\n",
              "    cursor: pointer;\n",
              "    display: none;\n",
              "    fill: var(--fill-color);\n",
              "    height: 32px;\n",
              "    padding: 0;\n",
              "    width: 32px;\n",
              "  }\n",
              "\n",
              "  .colab-df-quickchart:hover {\n",
              "    background-color: var(--hover-bg-color);\n",
              "    box-shadow: 0 1px 2px rgba(60, 64, 67, 0.3), 0 1px 3px 1px rgba(60, 64, 67, 0.15);\n",
              "    fill: var(--button-hover-fill-color);\n",
              "  }\n",
              "\n",
              "  .colab-df-quickchart-complete:disabled,\n",
              "  .colab-df-quickchart-complete:disabled:hover {\n",
              "    background-color: var(--disabled-bg-color);\n",
              "    fill: var(--disabled-fill-color);\n",
              "    box-shadow: none;\n",
              "  }\n",
              "\n",
              "  .colab-df-spinner {\n",
              "    border: 2px solid var(--fill-color);\n",
              "    border-color: transparent;\n",
              "    border-bottom-color: var(--fill-color);\n",
              "    animation:\n",
              "      spin 1s steps(1) infinite;\n",
              "  }\n",
              "\n",
              "  @keyframes spin {\n",
              "    0% {\n",
              "      border-color: transparent;\n",
              "      border-bottom-color: var(--fill-color);\n",
              "      border-left-color: var(--fill-color);\n",
              "    }\n",
              "    20% {\n",
              "      border-color: transparent;\n",
              "      border-left-color: var(--fill-color);\n",
              "      border-top-color: var(--fill-color);\n",
              "    }\n",
              "    30% {\n",
              "      border-color: transparent;\n",
              "      border-left-color: var(--fill-color);\n",
              "      border-top-color: var(--fill-color);\n",
              "      border-right-color: var(--fill-color);\n",
              "    }\n",
              "    40% {\n",
              "      border-color: transparent;\n",
              "      border-right-color: var(--fill-color);\n",
              "      border-top-color: var(--fill-color);\n",
              "    }\n",
              "    60% {\n",
              "      border-color: transparent;\n",
              "      border-right-color: var(--fill-color);\n",
              "    }\n",
              "    80% {\n",
              "      border-color: transparent;\n",
              "      border-right-color: var(--fill-color);\n",
              "      border-bottom-color: var(--fill-color);\n",
              "    }\n",
              "    90% {\n",
              "      border-color: transparent;\n",
              "      border-bottom-color: var(--fill-color);\n",
              "    }\n",
              "  }\n",
              "</style>\n",
              "\n",
              "  <script>\n",
              "    async function quickchart(key) {\n",
              "      const quickchartButtonEl =\n",
              "        document.querySelector('#' + key + ' button');\n",
              "      quickchartButtonEl.disabled = true;  // To prevent multiple clicks.\n",
              "      quickchartButtonEl.classList.add('colab-df-spinner');\n",
              "      try {\n",
              "        const charts = await google.colab.kernel.invokeFunction(\n",
              "            'suggestCharts', [key], {});\n",
              "      } catch (error) {\n",
              "        console.error('Error during call to suggestCharts:', error);\n",
              "      }\n",
              "      quickchartButtonEl.classList.remove('colab-df-spinner');\n",
              "      quickchartButtonEl.classList.add('colab-df-quickchart-complete');\n",
              "    }\n",
              "    (() => {\n",
              "      let quickchartButtonEl =\n",
              "        document.querySelector('#df-9021ffcd-52cb-4b39-b533-51e6b6daba59 button');\n",
              "      quickchartButtonEl.style.display =\n",
              "        google.colab.kernel.accessAllowed ? 'block' : 'none';\n",
              "    })();\n",
              "  </script>\n",
              "</div>\n",
              "\n",
              "    </div>\n",
              "  </div>\n"
            ],
            "application/vnd.google.colaboratory.intrinsic+json": {
              "type": "dataframe",
              "variable_name": "data",
              "summary": "{\n  \"name\": \"data\",\n  \"rows\": 20,\n  \"fields\": [\n    {\n      \"column\": \"x\",\n      \"properties\": {\n        \"dtype\": \"number\",\n        \"std\": 0.59160797830997,\n        \"min\": -0.99999999999973,\n        \"max\": 0.900000000000297,\n        \"num_unique_values\": 20,\n        \"samples\": [\n          -0.4999999999997229,\n          2.842170943040401e-13,\n          -0.29999999999972\n        ],\n        \"semantic_type\": \"\",\n        \"description\": \"\"\n      }\n    },\n    {\n      \"column\": \"y\",\n      \"properties\": {\n        \"dtype\": \"number\",\n        \"std\": 19.38212393321091,\n        \"min\": -41.411018878824656,\n        \"max\": 34.10460691951829,\n        \"num_unique_values\": 20,\n        \"samples\": [\n          -41.411018878824656,\n          -6.544957541775498,\n          24.851224341674943\n        ],\n        \"semantic_type\": \"\",\n        \"description\": \"\"\n      }\n    }\n  ]\n}"
            }
          },
          "metadata": {},
          "execution_count": 4
        },
        {
          "output_type": "display_data",
          "data": {
            "text/plain": [
              "<Figure size 640x480 with 1 Axes>"
            ],
            "image/png": "[encoded data removed]"
          },
          "metadata": {}
        }
      ],
      "source": [
        "data = pd.read_csv(\"https://raw.githubusercontent.com/Greg-Hallenbeck/class-datasets/main/datasets/hw2.csv\")\n",
        "x,y = data[\"x\"],data[\"y\"]\n",
        "\n",
        "plt.scatter(x, y); plt.xlabel(\"x\"); plt.ylabel(\"y\")\n",
        "data.head()"
      ]
    },
    {
      "cell_type": "markdown",
      "source": [
        "# 1. Learning Rate Finder\n",
        "\n",
        "**Please Note: Do *not* use mini-batch descent for any of these problems. Just use all of the data each time.**\n",
        "\n",
        "So far, we've been just using the same learning rate of $\\lambda = 0.01$ for every problem, and sometimes modifying it when it's not the right one. But there's no reason that it should *always* be 0.01. The dataset we're working with is particularly tricky to fit well, because $x^9$ grows very rapidly, so your initial loss will be very large. It might be a good idea to, before starting gradient descent, figure out what learning rate would be best. This is a *learning rate finder*.\n",
        "\n",
        "The algorithm for this is pretty simple:\n",
        "1. Initialize your parameters\n",
        "2. Train the model for one epoch with a variety of different values of $\\lambda$, and record what the loss will be after that epoch of training. Use the same initial parameters for each of these.\n",
        "3. Make a plot of those losses. The $\\lambda$ corresponding to the minimum loss (or a $\\lambda$ just below that) will be the best value to train at.\n",
        "\n",
        "Some hints:\n",
        "* *Don't* actually change the parameters during this process. Figure out what the loss *would be* with the new parameters, then reset to the original values after each step.\n",
        "* You don't need to loop over minibatches. The dataset is tiny, so you can do this all with just a single batch.\n",
        "* There's not much different between a learning rate of 0.03 and 0.04. We need to vary $\\lambda$ by a huge amount. For this problem, our learning rate needs to be somewhere between from say $10^{-3}$ and $10^{0.3}$. To accomplish this, generate the lambdas in the following way:\n",
        "`lrs = 10**np.arange(-3,0.3,0.02)`.\n",
        "* Similarly, when you make the loss plot, make the x scale logarithmic using `plt.xscale(\"log\")`.\n",
        "\n",
        "1. Make a learning rate finder for the dataset and function defined above.\n",
        "2. Make a plot of learning rate on the x axis, and loss after 1 epoch on the y. Mine looks like [this image](https://github.com/Greg-Hallenbeck/class-datasets/blob/main/images/lr_find.png?raw=true), but results may vary slightly based on starting parameters.\n",
        "3. State explicitly: what is the best learning rate for this problem?"
      ],
      "metadata": {
        "id": "P-NlBE6x2x1_"
      }
    },
    {
      "cell_type": "code",
      "source": [
        "x = torch.tensor(data[\"x\"])\n",
        "y = torch.tensor(data[\"y\"])"
      ],
      "metadata": {
        "id": "K6k_yv6vrjAi"
      },
      "execution_count": 5,
      "outputs": []
    },
    {
      "cell_type": "code",
      "source": [
        "def loss(y, yhat):\n",
        "  return (y-yhat).pow(2).mean()"
      ],
      "metadata": {
        "id": "n5ZV07qb4HhM"
      },
      "execution_count": 6,
      "outputs": []
    },
    {
      "cell_type": "code",
      "source": [
        "w = torch.rand(10)\n",
        "w.requires_grad_()"
      ],
      "metadata": {
        "colab": {
          "base_uri": "https://localhost:8080/"
        },
        "id": "YcYjGZgJ4aV1",
        "outputId": "a90b365d-2d47-4f79-b950-0139e9f62a40"
      },
      "execution_count": 7,
      "outputs": [
        {
          "output_type": "execute_result",
          "data": {
            "text/plain": [
              "tensor([0.1359, 0.8004, 0.8632, 0.8522, 0.3374, 0.9663, 0.9319, 0.4032, 0.4959,\n",
              "        0.2778], requires_grad=True)"
            ]
          },
          "metadata": {},
          "execution_count": 7
        }
      ]
    },
    {
      "cell_type": "code",
      "source": [
        "lrs = 10**np.arange(-3,0.3,0.02)"
      ],
      "metadata": {
        "id": "n5MK-JWbQP7P"
      },
      "execution_count": 8,
      "outputs": []
    },
    {
      "cell_type": "code",
      "source": [
        "x"
      ],
      "metadata": {
        "colab": {
          "base_uri": "https://localhost:8080/"
        },
        "id": "_BbIZ7SiwtT_",
        "outputId": "7ea70b22-61a0-41e6-cba8-c34248a9135a"
      },
      "execution_count": 9,
      "outputs": [
        {
          "output_type": "execute_result",
          "data": {
            "text/plain": [
              "tensor([-5.0000e-01,  3.0000e-01,  2.0000e-01,  7.0000e-01, -1.0000e-01,\n",
              "        -7.0000e-01,  1.0000e-01, -8.0000e-01, -4.0000e-01, -1.0000e+00,\n",
              "        -2.0000e-01,  6.0000e-01, -6.0000e-01,  5.0000e-01,  4.0000e-01,\n",
              "        -3.0000e-01, -9.0000e-01,  2.8422e-13,  8.0000e-01,  9.0000e-01],\n",
              "       dtype=torch.float64)"
            ]
          },
          "metadata": {},
          "execution_count": 9
        }
      ]
    },
    {
      "cell_type": "code",
      "source": [
        "losses = []\n",
        "\n",
        "for lr in lrs:\n",
        "  yhat = P9(x, w)\n",
        "  J = loss(y, yhat)\n",
        "\n",
        "  J.backward()\n",
        "\n",
        "  with torch.no_grad():\n",
        "   # the \"learning\" is right here\n",
        "   # w = w - lr * w.grad\n",
        "    wnew = w - lr * w.grad\n",
        "\n",
        "  yhat = P9(x, wnew)\n",
        "  J = loss(y, yhat)\n",
        "  losses.append(float(J))\n",
        "\n",
        "  w.grad.data.zero_()"
      ],
      "metadata": {
        "id": "Sz0GCDyi4i0i"
      },
      "execution_count": 10,
      "outputs": []
    },
    {
      "cell_type": "code",
      "source": [
        "plt.plot(lrs, losses)\n",
        "plt.xlabel(\"Learning Rates\")\n",
        "plt.ylabel(\"Losses\")\n",
        "plt.xscale(\"log\")\n",
        "plt.yscale(\"log\")"
      ],
      "metadata": {
        "colab": {
          "base_uri": "https://localhost:8080/",
          "height": 454
        },
        "id": "GmdwH1phj2zR",
        "outputId": "a7f74928-b3b2-4524-8506-d3a144dd3216"
      },
      "execution_count": 11,
      "outputs": [
        {
          "output_type": "display_data",
          "data": {
            "text/plain": [
              "<Figure size 640x480 with 1 Axes>"
            ],
            "image/png": "[encoded data removed]"
          },
          "metadata": {}
        }
      ]
    },
    {
      "cell_type": "code",
      "source": [
        "losses[torch.argmin(tensor(losses))]\n",
        "\n",
        "# The best learning rate for this problem would be approximately 0.7."
      ],
      "metadata": {
        "colab": {
          "base_uri": "https://localhost:8080/"
        },
        "id": "RTCeavzm82RD",
        "outputId": "a516aee4-92b6-4c25-9f17-463802e12e1d"
      },
      "execution_count": 12,
      "outputs": [
        {
          "output_type": "execute_result",
          "data": {
            "text/plain": [
              "337.01140195001307"
            ]
          },
          "metadata": {},
          "execution_count": 12
        }
      ]
    },
    {
      "cell_type": "markdown",
      "source": [
        "# 2. Overfitting\n",
        "\n",
        "1. Split the dataset in two: a *training set* with the first 15 data points and a *validation set* with the remaining 5.\n",
        "\n",
        "2. Fit the dataset using just the training set for 100 epochs. At the end of each epoch, evaluate the loss not only on the training set but also on the validation set. This means you'll be tracking the loss in two variables.\n",
        "\n",
        "3. Make a plot of the loss for the training and validation sets, on a single set of axes.\n",
        "\n",
        "4. To assess overfitting, look for when the model continues to improve on the training set, but gets worse on the validation set. Is there overfitting? At approximately what epoch did overfitting begin?\n",
        "\n"
      ],
      "metadata": {
        "id": "GDxo31mmjUkR"
      }
    },
    {
      "cell_type": "code",
      "source": [
        "training = data.iloc[:15].reset_index()\n",
        "validation = data.iloc[15:].reset_index()"
      ],
      "metadata": {
        "id": "jzcU-un4F7fM"
      },
      "execution_count": 13,
      "outputs": []
    },
    {
      "cell_type": "code",
      "source": [
        "train_x = torch.tensor(training[\"x\"])\n",
        "train_y = torch.tensor(training[\"y\"])"
      ],
      "metadata": {
        "id": "88UfBPGrGiJM"
      },
      "execution_count": 14,
      "outputs": []
    },
    {
      "cell_type": "code",
      "source": [
        "validate_x = torch.tensor(validation[\"x\"])\n",
        "validate_y = torch.tensor(validation[\"y\"])"
      ],
      "metadata": {
        "id": "iThxCeB3HGhu"
      },
      "execution_count": 15,
      "outputs": []
    },
    {
      "cell_type": "code",
      "source": [
        "w = torch.rand(10)\n",
        "w.requires_grad_()\n",
        "train_losses = []\n",
        "validate_losses = []"
      ],
      "metadata": {
        "id": "CR8ARrwb7vhV"
      },
      "execution_count": 16,
      "outputs": []
    },
    {
      "cell_type": "code",
      "source": [
        "for epoch in range(100):\n",
        "\n",
        "    yhat = P9(train_x, w)\n",
        "    J_train = loss(train_y, yhat)\n",
        "    train_losses.append(float(J_train))\n",
        "\n",
        "    J_train.backward()\n",
        "\n",
        "    lr = 0.1\n",
        "\n",
        "    with torch.no_grad():\n",
        "        w.sub_(lr * w.grad)\n",
        "\n",
        "    yhat = P9(validate_x, w)\n",
        "    J_validate = loss(validate_y, yhat)\n",
        "    validate_losses.append(float(J_validate))\n",
        "\n",
        "    w.grad.data.zero_()"
      ],
      "metadata": {
        "id": "ol9YtNmd2Ify"
      },
      "execution_count": 17,
      "outputs": []
    },
    {
      "cell_type": "code",
      "source": [
        "plt.plot(train_losses)\n",
        "plt.plot(validate_losses)\n",
        "\n",
        "# There is overfitting. At approximately 15 epoch, the overfitting occurs."
      ],
      "metadata": {
        "colab": {
          "base_uri": "https://localhost:8080/",
          "height": 448
        },
        "id": "LRi4mHC5d3tq",
        "outputId": "024cb1e5-af2c-4de8-b303-dccb4e37345b"
      },
      "execution_count": 18,
      "outputs": [
        {
          "output_type": "execute_result",
          "data": {
            "text/plain": [
              "[<matplotlib.lines.Line2D at 0x788ca273aa70>]"
            ]
          },
          "metadata": {},
          "execution_count": 18
        },
        {
          "output_type": "display_data",
          "data": {
            "text/plain": [
              "<Figure size 640x480 with 1 Axes>"
            ],
            "image/png": "[encoded data removed]"
          },
          "metadata": {}
        }
      ]
    },
    {
      "cell_type": "code",
      "source": [
        "w"
      ],
      "metadata": {
        "colab": {
          "base_uri": "https://localhost:8080/"
        },
        "id": "f3kzPhEH7KBx",
        "outputId": "d3ae7619-e86f-4645-b6e0-c92af7fffcc6"
      },
      "execution_count": 19,
      "outputs": [
        {
          "output_type": "execute_result",
          "data": {
            "text/plain": [
              "tensor([-6.7748, -6.2922, 13.9148,  4.2429,  5.0673,  5.3996,  0.8776,  4.3308,\n",
              "        -0.2575,  3.5757], requires_grad=True)"
            ]
          },
          "metadata": {},
          "execution_count": 19
        }
      ]
    },
    {
      "cell_type": "markdown",
      "source": [
        "# 3. Regularization\n",
        "\n",
        "One way to prevent overfitting is called *regularization*, which modifies the loss function to explicitly take into account how many and how strong each parameter is. One example is the L2 regularization method, adding every parameter squared multiplied by some hyperparameter $\\lambda_2$:\n",
        "\n",
        "$$J_{L2} = \\frac{1}{N}\\sum_i (\\hat{y}_i - y)^2 + \\lambda_2 \\sum_j w_j^2$$\n",
        "\n",
        "(In this case, the $w_j$ represent *all* model parameters, even if some are called $b$ or whatever)\n",
        "\n",
        "*Hint: this problem is very straightforward if you start by copying and paste your code from Problem 2.*\n",
        "\n",
        "1. Implement L2 regularization on the problem you've been working on, with a choice of $\\lambda_2 = 0.1$\n",
        "2. Plot the training and validation losses after fitting for 100 epochs.\n",
        "3. Describe: how has the L2 regularization affected the overfitting? Is there less overfitting? More? The same amount?\n",
        "4. Compare: Qualitatively, is each of the $w$ values you got here larger or smaller than from Problem 2? Why?"
      ],
      "metadata": {
        "id": "1zzZ3c8DF-M0"
      }
    },
    {
      "cell_type": "code",
      "source": [
        "def newloss(y, yhat, l2, w):\n",
        "  return (y-yhat).pow(2).mean() + l2 * sum((w).pow(2))"
      ],
      "metadata": {
        "id": "2y0xjEjDoX4h"
      },
      "execution_count": 20,
      "outputs": []
    },
    {
      "cell_type": "code",
      "source": [
        "w = torch.rand(10)\n",
        "w.requires_grad_()\n",
        "l2 = 0.1\n",
        "train_losses = []\n",
        "validate_losses = []"
      ],
      "metadata": {
        "id": "7fQoEZ_NqoSu"
      },
      "execution_count": 29,
      "outputs": []
    },
    {
      "cell_type": "code",
      "source": [
        "for epoch in range(100):\n",
        "\n",
        "    yhat = P9(train_x, w)\n",
        "    J_train = newloss(train_y, yhat, l2, w)\n",
        "    train_losses.append(float(J_train))\n",
        "\n",
        "    J_train.backward()\n",
        "\n",
        "    lr = 0.1\n",
        "\n",
        "    with torch.no_grad():\n",
        "        w.sub_(l2 * w.grad)\n",
        "\n",
        "    yhat = P9(validate_x, w)\n",
        "    J_validate = newloss(validate_y, yhat, l2, w)\n",
        "    validate_losses.append(float(J_validate))\n",
        "\n",
        "    w.grad.data.zero_()"
      ],
      "metadata": {
        "id": "0iXaOj5ZHQNN"
      },
      "execution_count": 30,
      "outputs": []
    },
    {
      "cell_type": "code",
      "source": [
        "plt.plot(train_losses)\n",
        "plt.plot(validate_losses)\n",
        "\n",
        "# The L2 regulation did seem to affect the overfitting. There appears to be less\n",
        "# overfitting with the L2 regulation. Compared to the w values in Problem 2, any\n",
        "# of the negative values in this problem are greater than the ones in Problem 2,\n",
        "# and any of the positive values are smaller than the ones in Problem 2."
      ],
      "metadata": {
        "colab": {
          "base_uri": "https://localhost:8080/",
          "height": 448
        },
        "id": "0Bbtzo5Sq4Lh",
        "outputId": "b5891b0a-4b35-47c3-c95f-d0b833583547"
      },
      "execution_count": 31,
      "outputs": [
        {
          "output_type": "execute_result",
          "data": {
            "text/plain": [
              "[<matplotlib.lines.Line2D at 0x788ca0223070>]"
            ]
          },
          "metadata": {},
          "execution_count": 31
        },
        {
          "output_type": "display_data",
          "data": {
            "text/plain": [
              "<Figure size 640x480 with 1 Axes>"
            ],
            "image/png": "[encoded data removed]"
          },
          "metadata": {}
        }
      ]
    },
    {
      "cell_type": "code",
      "source": [
        "w"
      ],
      "metadata": {
        "colab": {
          "base_uri": "https://localhost:8080/"
        },
        "id": "Y2YjU-yeQn3X",
        "outputId": "531bd9f9-90fa-41f4-f22c-72559cdb6b73"
      },
      "execution_count": 32,
      "outputs": [
        {
          "output_type": "execute_result",
          "data": {
            "text/plain": [
              "tensor([-4.5056, -3.8471,  6.2070,  1.4863,  2.6003,  1.9877,  0.5248,  1.6540,\n",
              "        -0.1486,  1.2172], requires_grad=True)"
            ]
          },
          "metadata": {},
          "execution_count": 32
        }
      ]
    }
  ]
}